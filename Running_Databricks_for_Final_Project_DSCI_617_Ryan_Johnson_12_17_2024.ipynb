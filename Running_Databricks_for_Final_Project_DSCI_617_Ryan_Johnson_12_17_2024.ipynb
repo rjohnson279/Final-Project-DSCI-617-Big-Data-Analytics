{
 "cells": [
  {
   "cell_type": "markdown",
   "metadata": {
    "application/vnd.databricks.v1+cell": {
     "cellMetadata": {
      "byteLimit": 2048000,
      "rowLimit": 10000
     },
     "inputWidgets": {},
     "nuid": "0ac65e1d-1505-4fe4-a329-e8bcfc299495",
     "showTitle": false,
     "tableResultSettingsMap": {},
     "title": ""
    },
    "id": "hrQqC1swUU9B"
   },
   "source": [
    "# Final Project\n",
    "### DSCI 617\n",
    "**Ryan Johnson**"
   ]
  },
  {
   "cell_type": "markdown",
   "metadata": {
    "application/vnd.databricks.v1+cell": {
     "cellMetadata": {
      "byteLimit": 2048000,
      "rowLimit": 10000
     },
     "inputWidgets": {},
     "nuid": "ca9d84af-e7e7-40d3-8f7d-804ecf19ef1f",
     "showTitle": false,
     "tableResultSettingsMap": {},
     "title": ""
    },
    "id": "oOGZ61kpUdtj"
   },
   "source": [
    "### Overview\n",
    "\n",
    "You have just been hired as a Sr. Data Scientist at the City of Chicago. Your manager, the mayor, Mr. Emanuel, asked you to download the dataset from https://www.kaggle.com/chicago/chicago-taxi-rides-2016. It is a very large dataset containing about 20 million records. This dataset includes taxi trips for 2016, which were reported to the City of Chicago in its role as a regulatory agency. To protect privacy but allow for aggregate analyses, the Taxi ID is consistent for any given taxi medallion number but does not show the number. Census Tracts are suppressed in some cases, and times are rounded to the nearest 15 minutes. Due to the data reporting process, not all trips are reported, but the City believes that most are. See http://digital.cityofchicago.org/index.php/chicago-taxi-data-released (Links to an external site.)Links to an external site for more information about this dataset and how it was created."
   ]
  },
  {
   "cell_type": "markdown",
   "metadata": {
    "application/vnd.databricks.v1+cell": {
     "cellMetadata": {
      "byteLimit": 2048000,
      "rowLimit": 10000
     },
     "inputWidgets": {},
     "nuid": "04bfed03-83db-421b-9e2c-45269ccb895a",
     "showTitle": false,
     "tableResultSettingsMap": {},
     "title": ""
    }
   },
   "source": [
    "# Set Up for Databricks"
   ]
  },
  {
   "cell_type": "code",
   "execution_count": 0,
   "metadata": {
    "application/vnd.databricks.v1+cell": {
     "cellMetadata": {
      "byteLimit": 2048000,
      "rowLimit": 10000
     },
     "inputWidgets": {},
     "nuid": "95d93ee3-f948-4612-b407-4c560f93fbb3",
     "showTitle": false,
     "tableResultSettingsMap": {},
     "title": ""
    }
   },
   "outputs": [],
   "source": [
    "import sys\n",
    "from random import random\n",
    "from operator import add\n",
    "from pyspark.sql import SparkSession # starting point for PySpark with the DataFrame API and the Dataset\n",
    "\n",
    "# create a new Spark session with the application name \"Final Project\"\n",
    "spark = SparkSession\\\n",
    "    .builder\\\n",
    "    .appName(\"Final Project\")\\\n",
    "    .getOrCreate()"
   ]
  },
  {
   "cell_type": "markdown",
   "metadata": {
    "application/vnd.databricks.v1+cell": {
     "cellMetadata": {
      "byteLimit": 2048000,
      "rowLimit": 10000
     },
     "inputWidgets": {},
     "nuid": "967556fd-b74d-46ac-bca3-83ca1878575f",
     "showTitle": false,
     "tableResultSettingsMap": {},
     "title": ""
    },
    "id": "xjaAYC-RU-G1"
   },
   "source": [
    "# 1. Read 12 monthly datasets, chicago_taxi_trips_2016_01, chicago_taxi_trips_2016_02, …, chicago_taxi_trips_2016_12 into a Spark Data frame(Hint: you can use df = spark.read.csv('C:\\\\Users\\\\yliu3\\\\Documents\\\\Data Banks\\\\Regression\\\\chicago-taxi-rides-2016\\\\*.csv', header = True, inferSchema = True) to read several csv files and combine it into a single data frame)"
   ]
  },
  {
   "cell_type": "code",
   "execution_count": 0,
   "metadata": {
    "application/vnd.databricks.v1+cell": {
     "cellMetadata": {
      "byteLimit": 2048000,
      "rowLimit": 10000
     },
     "inputWidgets": {},
     "nuid": "8e3b00bc-8734-49c9-8a32-2ecde0e15b14",
     "showTitle": false,
     "tableResultSettingsMap": {},
     "title": ""
    }
   },
   "outputs": [
    {
     "output_type": "stream",
     "name": "stdout",
     "output_type": "stream",
     "text": [
      "dbfs:/FileStore/tables/taxi/chicago_taxi_trips_2016_01.csv\ndbfs:/FileStore/tables/taxi/chicago_taxi_trips_2016_02.csv\ndbfs:/FileStore/tables/taxi/chicago_taxi_trips_2016_03.csv\ndbfs:/FileStore/tables/taxi/chicago_taxi_trips_2016_04.csv\ndbfs:/FileStore/tables/taxi/chicago_taxi_trips_2016_05.csv\ndbfs:/FileStore/tables/taxi/chicago_taxi_trips_2016_06.csv\ndbfs:/FileStore/tables/taxi/chicago_taxi_trips_2016_07.csv\ndbfs:/FileStore/tables/taxi/chicago_taxi_trips_2016_08.csv\ndbfs:/FileStore/tables/taxi/chicago_taxi_trips_2016_09.csv\ndbfs:/FileStore/tables/taxi/chicago_taxi_trips_2016_10.csv\ndbfs:/FileStore/tables/taxi/chicago_taxi_trips_2016_11.csv\ndbfs:/FileStore/tables/taxi/chicago_taxi_trips_2016_12.csv\ndbfs:/FileStore/tables/taxi/column_remapping.json\ndbfs:/FileStore/tables/taxi/data_dictionary.csv\ndbfs:/FileStore/tables/taxi/dt_predictions.csv/\ndbfs:/FileStore/tables/taxi/gbt_predictions.csv/\ndbfs:/FileStore/tables/taxi/lr_predictions.csv/\ndbfs:/FileStore/tables/taxi/rf_predictions.csv/\n+-------+--------------------+------------------+------------+----------+-------------------+--------------------+---------------------+----------------------+-----+----+-----+------+----------+------------+-------+---------------+----------------+----------------+-----------------+\n|taxi_id|trip_start_timestamp|trip_end_timestamp|trip_seconds|trip_miles|pickup_census_tract|dropoff_census_tract|pickup_community_area|dropoff_community_area| fare|tips|tolls|extras|trip_total|payment_type|company|pickup_latitude|pickup_longitude|dropoff_latitude|dropoff_longitude|\n+-------+--------------------+------------------+------------+----------+-------------------+--------------------+---------------------+----------------------+-----+----+-----+------+----------+------------+-------+---------------+----------------+----------------+-----------------+\n|     85|  2016-1-13 06:15:00|2016-1-13 06:15:00|         180|       0.4|               NULL|                NULL|                   24|                    24| 4.50|0.00| 0.00|  0.00|      4.50|        Cash|    107|            199|             510|             199|              510|\n|   2776|  2016-1-22 09:30:00|2016-1-22 09:45:00|         240|       0.7|               NULL|                NULL|                 NULL|                  NULL| 4.45|4.45| 0.00|  0.00|      8.90| Credit Card|   NULL|           NULL|            NULL|            NULL|             NULL|\n|   3168|  2016-1-31 21:30:00|2016-1-31 21:30:00|           0|         0|               NULL|                NULL|                 NULL|                  NULL|42.75|5.00| 0.00|  0.00|     47.75| Credit Card|    119|           NULL|            NULL|            NULL|             NULL|\n|   4237|  2016-1-23 17:30:00|2016-1-23 17:30:00|         480|       1.1|               NULL|                NULL|                    6|                     6| 7.00|0.00| 0.00|  0.00|      7.00|        Cash|   NULL|            686|             500|             686|              500|\n|   5710|  2016-1-14 05:45:00|2016-1-14 06:00:00|         480|      2.71|               NULL|                NULL|                   32|                  NULL|10.25|0.00| 0.00|  0.00|     10.25|        Cash|   NULL|            385|             478|            NULL|             NULL|\n+-------+--------------------+------------------+------------+----------+-------------------+--------------------+---------------------+----------------------+-----+----+-----+------+----------+------------+-------+---------------+----------------+----------------+-----------------+\nonly showing top 5 rows\n\n"
     ]
    }
   ],
   "source": [
    "# Use dbutils to list files in Databricks filesystem\n",
    "\n",
    "def list_files(directory):\n",
    "    \"\"\"Lists all files in the specified directory in Databricks.\n",
    "\n",
    "    Args:\n",
    "        directory: The path to the directory.\n",
    "\n",
    "    Returns:\n",
    "        A list of file paths.\n",
    "    \"\"\"\n",
    "    files = dbutils.fs.ls(directory)\n",
    "    return [file.path for file in files]\n",
    "\n",
    "# Specify the directory path\n",
    "directory_path =  \"dbfs:/FileStore/tables/taxi/\"\n",
    "\n",
    "# Get the list of files\n",
    "file_list = list_files(directory_path)\n",
    "\n",
    "# Print the file names\n",
    "for file in file_list:\n",
    "    print(file)\n",
    "\n",
    "# Read all files in the directory into a single DataFrame\n",
    "# Assuming the files are in CSV format. Adjust the format as needed (e.g., json, parquet).\n",
    "df = spark.read.format(\"csv\").option(\"header\", \"true\").load(directory_path)\n",
    "\n",
    "# Display the first 5 rows of the DataFrame\n",
    "df.show(5)"
   ]
  },
  {
   "cell_type": "code",
   "execution_count": 0,
   "metadata": {
    "application/vnd.databricks.v1+cell": {
     "cellMetadata": {
      "byteLimit": 2048000,
      "rowLimit": 10000
     },
     "inputWidgets": {},
     "nuid": "4d0f4c05-035e-47f5-81f7-112fbb75dc46",
     "showTitle": false,
     "tableResultSettingsMap": {},
     "title": ""
    },
    "colab": {
     "base_uri": "https://localhost:8080/"
    },
    "id": "prs0WtlnovEJ",
    "outputId": "5754b1d7-8790-46ef-ee9c-2d7b9127bd9d"
   },
   "outputs": [],
   "source": [
    "# df.printSchema()"
   ]
  },
  {
   "cell_type": "markdown",
   "metadata": {
    "application/vnd.databricks.v1+cell": {
     "cellMetadata": {
      "byteLimit": 2048000,
      "rowLimit": 10000
     },
     "inputWidgets": {},
     "nuid": "a2a73454-3bb7-468e-8495-94728f64aa0c",
     "showTitle": false,
     "tableResultSettingsMap": {},
     "title": ""
    }
   },
   "source": [
    "### Converting fare, trip_seconds, and trip_miles columns to the correct formats (integer, double)\n",
    "Currently all the datasets imported have all the columns as strings, that is not correct."
   ]
  },
  {
   "cell_type": "code",
   "execution_count": 0,
   "metadata": {
    "application/vnd.databricks.v1+cell": {
     "cellMetadata": {
      "byteLimit": 2048000,
      "rowLimit": 10000
     },
     "inputWidgets": {},
     "nuid": "ac7241d6-d540-435c-8426-2a9eba833c1f",
     "showTitle": false,
     "tableResultSettingsMap": {},
     "title": ""
    }
   },
   "outputs": [
    {
     "output_type": "stream",
     "name": "stdout",
     "output_type": "stream",
     "text": [
      "root\n |-- taxi_id: string (nullable = true)\n |-- trip_start_timestamp: string (nullable = true)\n |-- trip_end_timestamp: string (nullable = true)\n |-- trip_seconds: integer (nullable = true)\n |-- trip_miles: double (nullable = true)\n |-- pickup_census_tract: string (nullable = true)\n |-- dropoff_census_tract: string (nullable = true)\n |-- pickup_community_area: string (nullable = true)\n |-- dropoff_community_area: string (nullable = true)\n |-- fare: double (nullable = true)\n |-- tips: string (nullable = true)\n |-- tolls: string (nullable = true)\n |-- extras: string (nullable = true)\n |-- trip_total: string (nullable = true)\n |-- payment_type: string (nullable = true)\n |-- company: string (nullable = true)\n |-- pickup_latitude: string (nullable = true)\n |-- pickup_longitude: string (nullable = true)\n |-- dropoff_latitude: string (nullable = true)\n |-- dropoff_longitude: string (nullable = true)\n\n"
     ]
    }
   ],
   "source": [
    "from pyspark.sql.types import DoubleType, IntegerType\n",
    "\n",
    "df = df.withColumn(\"fare\", df[\"fare\"].cast(DoubleType())) # convert fare to double\n",
    "df = df.withColumn(\"trip_seconds\", df[\"trip_seconds\"].cast(IntegerType())) # convert trip_seconds to integer\n",
    "df = df.withColumn(\"trip_miles\", df[\"trip_miles\"].cast(DoubleType())) # convert trip_miles to double\n",
    "\n",
    "df.printSchema()"
   ]
  },
  {
   "cell_type": "markdown",
   "metadata": {
    "application/vnd.databricks.v1+cell": {
     "cellMetadata": {
      "byteLimit": 2048000,
      "rowLimit": 10000
     },
     "inputWidgets": {},
     "nuid": "956f3cfa-afc8-470f-87f3-1cff07d400d9",
     "showTitle": false,
     "tableResultSettingsMap": {},
     "title": ""
    },
    "id": "AoC_N88hJAVw"
   },
   "source": [
    "## **Selecting fare, trip_seconds, and trip_miles columns and running all data**"
   ]
  },
  {
   "cell_type": "code",
   "execution_count": 0,
   "metadata": {
    "application/vnd.databricks.v1+cell": {
     "cellMetadata": {
      "byteLimit": 2048000,
      "rowLimit": 10000
     },
     "inputWidgets": {},
     "nuid": "cb041c07-5eb7-4cfd-ab05-bfff40012317",
     "showTitle": false,
     "tableResultSettingsMap": {},
     "title": ""
    },
    "colab": {
     "base_uri": "https://localhost:8080/"
    },
    "id": "HS5zNKwyJB_L",
    "outputId": "b373263c-6346-4267-f403-162141862f3c"
   },
   "outputs": [
    {
     "output_type": "stream",
     "name": "stdout",
     "output_type": "stream",
     "text": [
      "The shape of df is: rows: 19866178 and columns: 3\n+-----+------------+----------+\n| fare|trip_seconds|trip_miles|\n+-----+------------+----------+\n|  4.5|         180|       0.4|\n| 4.45|         240|       0.7|\n|42.75|           0|       0.0|\n|  7.0|         480|       1.1|\n|10.25|         480|      2.71|\n+-----+------------+----------+\nonly showing top 5 rows\n\n"
     ]
    }
   ],
   "source": [
    "df = df.select('fare', 'trip_seconds', 'trip_miles')\n",
    "\n",
    "print(f\"The shape of df is: rows: {df.count()} and columns: {len(df.columns)}\")\n",
    "\n",
    "df.show(5)"
   ]
  },
  {
   "cell_type": "markdown",
   "metadata": {
    "application/vnd.databricks.v1+cell": {
     "cellMetadata": {
      "byteLimit": 2048000,
      "rowLimit": 10000
     },
     "inputWidgets": {},
     "nuid": "de241693-d112-4248-934f-f67a47989885",
     "showTitle": false,
     "tableResultSettingsMap": {},
     "title": ""
    },
    "id": "-68SMdJNVCy0"
   },
   "source": [
    "# 2. There are some missing values in fare ,trip_seconds,  and trip_miles , please drop the NAs in these three columns only using df = df.na.drop(subset= [])\n",
    "\n",
    "Find the total count of NA, Null, None, and NaN from the selected columns fare,trip_seconds, and trip_miles https://sparkbyexamples.com/pyspark/pyspark-find-count-of-null-none-nan-values/#:~:text=In%20PySpark%20DataFrame%20you%20can,count()%20and%20when()."
   ]
  },
  {
   "cell_type": "code",
   "execution_count": 0,
   "metadata": {
    "application/vnd.databricks.v1+cell": {
     "cellMetadata": {
      "byteLimit": 2048000,
      "rowLimit": 10000
     },
     "inputWidgets": {},
     "nuid": "d3539792-dbc2-437a-b7d2-5562252eec68",
     "showTitle": false,
     "tableResultSettingsMap": {},
     "title": ""
    },
    "colab": {
     "base_uri": "https://localhost:8080/"
    },
    "id": "rY2-YNvlldtP",
    "outputId": "b114d9d8-5c3a-4c32-d955-68b02d606265"
   },
   "outputs": [
    {
     "output_type": "stream",
     "name": "stdout",
     "output_type": "stream",
     "text": [
      "root\n |-- fare: double (nullable = true)\n |-- trip_seconds: integer (nullable = true)\n |-- trip_miles: double (nullable = true)\n\n"
     ]
    }
   ],
   "source": [
    "df.select('fare', 'trip_seconds', 'trip_miles').printSchema()"
   ]
  },
  {
   "cell_type": "code",
   "execution_count": 0,
   "metadata": {
    "application/vnd.databricks.v1+cell": {
     "cellMetadata": {
      "byteLimit": 2048000,
      "rowLimit": 10000
     },
     "inputWidgets": {},
     "nuid": "8b9a721d-c296-443f-96ac-26ea4fc6b90a",
     "showTitle": false,
     "tableResultSettingsMap": {},
     "title": ""
    },
    "colab": {
     "base_uri": "https://localhost:8080/"
    },
    "id": "kumu0f4LfwA1",
    "outputId": "d892f5d1-232c-4c7e-863c-14d6868d095d"
   },
   "outputs": [
    {
     "output_type": "stream",
     "name": "stdout",
     "output_type": "stream",
     "text": [
      "+----+------------+----------+\n|fare|trip_seconds|trip_miles|\n+----+------------+----------+\n| 321|        3236|       253|\n+----+------------+----------+\n\n"
     ]
    }
   ],
   "source": [
    "# Find the total count of NA, Null, None, and NaN from the selected columns fare,trip_seconds, and trip_miles\n",
    "from pyspark.sql.functions import col,isnan, when, count\n",
    "\n",
    "df.select([count(when(isnan(c) | col(c).isNull(), c)).alias(c) for c in ['fare', 'trip_seconds', 'trip_miles']]).show()"
   ]
  },
  {
   "cell_type": "code",
   "execution_count": 0,
   "metadata": {
    "application/vnd.databricks.v1+cell": {
     "cellMetadata": {
      "byteLimit": 2048000,
      "rowLimit": 10000
     },
     "inputWidgets": {},
     "nuid": "2e5ad2ac-51dd-4b54-9644-9e53cf77b471",
     "showTitle": false,
     "tableResultSettingsMap": {},
     "title": ""
    },
    "id": "oj626zMnWYFD"
   },
   "outputs": [],
   "source": [
    "# please drop the NAs in these three columns only using df = df.na.drop(subset= [])\n",
    "df = df.na.drop(subset= ['fare', 'trip_seconds', 'trip_miles'])"
   ]
  },
  {
   "cell_type": "code",
   "execution_count": 0,
   "metadata": {
    "application/vnd.databricks.v1+cell": {
     "cellMetadata": {
      "byteLimit": 2048000,
      "rowLimit": 10000
     },
     "inputWidgets": {},
     "nuid": "e9ddfce7-2de8-4cce-a32f-390cc9ffa103",
     "showTitle": false,
     "tableResultSettingsMap": {},
     "title": ""
    },
    "colab": {
     "base_uri": "https://localhost:8080/"
    },
    "id": "CkShYLAbeo7r",
    "outputId": "b7bedf48-5909-4732-a5f9-3166d87da493"
   },
   "outputs": [
    {
     "output_type": "stream",
     "name": "stdout",
     "output_type": "stream",
     "text": [
      "+----+------------+----------+\n|fare|trip_seconds|trip_miles|\n+----+------------+----------+\n|   0|           0|         0|\n+----+------------+----------+\n\n"
     ]
    }
   ],
   "source": [
    "# After drop finding total count of NA, Null, None, NaN from the selected columns fare ,trip_seconds, and trip_miles\n",
    "# making sure that they were dopped\n",
    "\n",
    "df.select([count(when(isnan(c) | col(c).isNull(), c)).alias(c) for c in ['fare', 'trip_seconds', 'trip_miles']]).show()"
   ]
  },
  {
   "cell_type": "markdown",
   "metadata": {
    "application/vnd.databricks.v1+cell": {
     "cellMetadata": {
      "byteLimit": 2048000,
      "rowLimit": 10000
     },
     "inputWidgets": {},
     "nuid": "c47cde85-4e44-4a4e-92f2-f26cc4dbe633",
     "showTitle": false,
     "tableResultSettingsMap": {},
     "title": ""
    },
    "id": "9ZQZrlw_VEuZ"
   },
   "source": [
    "# 3. Please remove the outliers from the dataset.\n",
    "(For example, one potential method, https://en.wikipedia.org/wiki/Interquartile_range#:~:text=In%20descriptive%20statistics%2C%20the%20interquartile,25th%20percentiles%20of%20the%20data. to an external site. )\n",
    "\n",
    "https://www.machinelearningplus.com/pyspark/pyspark-outlier-detection-and-treatment/"
   ]
  },
  {
   "cell_type": "code",
   "execution_count": 0,
   "metadata": {
    "application/vnd.databricks.v1+cell": {
     "cellMetadata": {
      "byteLimit": 2048000,
      "rowLimit": 10000
     },
     "inputWidgets": {},
     "nuid": "3e67df5a-a7f1-4460-9e46-c15ed90a7206",
     "showTitle": false,
     "tableResultSettingsMap": {},
     "title": ""
    },
    "colab": {
     "base_uri": "https://localhost:8080/"
    },
    "id": "6wH1ZrPVK2I-",
    "outputId": "7a040c8c-e4cd-455c-a9bd-7af843ed80eb"
   },
   "outputs": [
    {
     "output_type": "stream",
     "name": "stdout",
     "output_type": "stream",
     "text": [
      "+----+------------+----------+\n|fare|trip_seconds|trip_miles|\n+----+------------+----------+\n| 4.5|         180|       0.4|\n+----+------------+----------+\nonly showing top 1 row\n\n"
     ]
    }
   ],
   "source": [
    "df.show(1)"
   ]
  },
  {
   "cell_type": "code",
   "execution_count": 0,
   "metadata": {
    "application/vnd.databricks.v1+cell": {
     "cellMetadata": {
      "byteLimit": 2048000,
      "rowLimit": 10000
     },
     "inputWidgets": {},
     "nuid": "9ff9236e-d53f-4475-8661-8e40a59ea57e",
     "showTitle": false,
     "tableResultSettingsMap": {},
     "title": ""
    },
    "colab": {
     "base_uri": "https://localhost:8080/"
    },
    "id": "aPiVQxGPWYn-",
    "outputId": "558075d9-f370-412e-da28-b1d583017943"
   },
   "outputs": [
    {
     "output_type": "stream",
     "name": "stdout",
     "output_type": "stream",
     "text": [
      "+-------+------------------+------------------+------------------+\n|summary|              fare|      trip_seconds|        trip_miles|\n+-------+------------------+------------------+------------------+\n|  count|          19862606|          19862606|          19862606|\n|   mean| 13.89208666476089| 767.0163579240307|3.3946843702198923|\n| stddev|25.385934033731566|1060.4165630359958|22.597176756854477|\n|    min|               0.0|                 0|               0.0|\n|    25%|              6.25|               300|               0.1|\n|    50%|               8.5|               540|               1.1|\n|    75%|             14.25|               900|               2.7|\n|    max|            9999.0|             86399|            3353.1|\n+-------+------------------+------------------+------------------+\n\n"
     ]
    }
   ],
   "source": [
    "# Using summary to see the min, 25%, 50%, 75%, and max\n",
    "df.summary().show()"
   ]
  },
  {
   "cell_type": "markdown",
   "metadata": {
    "application/vnd.databricks.v1+cell": {
     "cellMetadata": {
      "byteLimit": 2048000,
      "rowLimit": 10000
     },
     "inputWidgets": {},
     "nuid": "6390a32e-e759-4d5f-bc23-b9c54f418c16",
     "showTitle": false,
     "tableResultSettingsMap": {},
     "title": ""
    },
    "id": "91n0zwTa7E98"
   },
   "source": [
    "#### Before Removing Outliners"
   ]
  },
  {
   "cell_type": "code",
   "execution_count": 0,
   "metadata": {
    "application/vnd.databricks.v1+cell": {
     "cellMetadata": {
      "byteLimit": 2048000,
      "rowLimit": 10000
     },
     "inputWidgets": {},
     "nuid": "593a931b-104d-47c0-819f-88bbb7dcddea",
     "showTitle": false,
     "tableResultSettingsMap": {},
     "title": ""
    },
    "colab": {
     "base_uri": "https://localhost:8080/"
    },
    "id": "9SFuOIf27DBw",
    "outputId": "3dd7b765-807e-4d87-cc20-b25751d19825"
   },
   "outputs": [
    {
     "output_type": "stream",
     "name": "stdout",
     "output_type": "stream",
     "text": [
      "+-----+------------+----------+\n| fare|trip_seconds|trip_miles|\n+-----+------------+----------+\n|  4.5|         180|       0.4|\n| 4.45|         240|       0.7|\n|42.75|           0|       0.0|\n|  7.0|         480|       1.1|\n|10.25|         480|      2.71|\n|17.75|        1080|       6.2|\n| 45.0|        1500|      18.4|\n| 3.75|          60|       0.2|\n|  5.0|         180|       0.0|\n| 3.25|           0|       0.0|\n+-----+------------+----------+\nonly showing top 10 rows\n\n"
     ]
    }
   ],
   "source": [
    "df.show(10)"
   ]
  },
  {
   "cell_type": "markdown",
   "metadata": {
    "application/vnd.databricks.v1+cell": {
     "cellMetadata": {
      "byteLimit": 2048000,
      "rowLimit": 10000
     },
     "inputWidgets": {},
     "nuid": "7ded2267-907b-483d-9e56-4843ea7c6d01",
     "showTitle": false,
     "tableResultSettingsMap": {},
     "title": ""
    },
    "id": "xzyk9X2t7hTQ"
   },
   "source": [
    "#### Removing Outliners"
   ]
  },
  {
   "cell_type": "code",
   "execution_count": 0,
   "metadata": {
    "application/vnd.databricks.v1+cell": {
     "cellMetadata": {
      "byteLimit": 2048000,
      "rowLimit": 10000
     },
     "inputWidgets": {},
     "nuid": "58abdbc9-78ee-4b2e-9420-e13ffb29338b",
     "showTitle": false,
     "tableResultSettingsMap": {},
     "title": ""
    },
    "colab": {
     "base_uri": "https://localhost:8080/"
    },
    "id": "qzf3yoJbtdNz",
    "outputId": "c6b3d2d7-fd4c-4c6e-e4b4-1064141e61a9"
   },
   "outputs": [
    {
     "output_type": "stream",
     "name": "stdout",
     "output_type": "stream",
     "text": [
      "+-----+------------+----------+\n| fare|trip_seconds|trip_miles|\n+-----+------------+----------+\n|  4.5|         180|       0.4|\n| 4.45|         240|       0.7|\n|42.75|           0|       0.0|\n|  7.0|         480|       1.1|\n|10.25|         480|      2.71|\n|17.75|        1080|       6.2|\n| 3.75|          60|       0.2|\n|  5.0|         180|       0.0|\n| 3.25|           0|       0.0|\n|  7.0|         480|       1.3|\n+-----+------------+----------+\nonly showing top 10 rows\n\n"
     ]
    }
   ],
   "source": [
    "from pyspark.sql.functions import col, exp\n",
    "\n",
    "columns = [\"fare\", \"trip_seconds\", \"trip_miles\"] # These are the three columns that we are removing outliners from (filtering)\n",
    "\n",
    "for column in columns:\n",
    "\n",
    "  # calculate Q1 and Q3 for the column\n",
    "  quantiles = df.approxQuantile(column, [0.25, 0.75], 0.05) # (relative error 0.5 best for large datasets)\n",
    "  q1 = quantiles[0]\n",
    "  q3 = quantiles[1]\n",
    "\n",
    "  # calculating IQR = Q3 - Q1 (IQR = 75% - 25%)\n",
    "  iqr = q3 - q1\n",
    "\n",
    "  # the upper and lower bounds for outliers\n",
    "  factor = 1.56 # default 1.5    # 1.56\n",
    "  lower_bound = q1 - factor * iqr\n",
    "  upper_bound = q3 + factor * iqr\n",
    "\n",
    "  # Filter out the outliers for the current column\n",
    "  remove_outliers_df = df.filter((col(column) >= lower_bound) & (col(column) <= upper_bound))\n",
    "\n",
    "df = remove_outliers_df # assigning remove_outliers_df to df\n",
    "\n",
    "df.show(10)"
   ]
  },
  {
   "cell_type": "markdown",
   "metadata": {
    "application/vnd.databricks.v1+cell": {
     "cellMetadata": {
      "byteLimit": 2048000,
      "rowLimit": 10000
     },
     "inputWidgets": {},
     "nuid": "023ea267-aa93-41af-a253-910233cfa10a",
     "showTitle": false,
     "tableResultSettingsMap": {},
     "title": ""
    },
    "id": "-6yE4d6dtg-k"
   },
   "source": [
    "#------------------------------------------------------------------------------------------------------------------------------------------"
   ]
  },
  {
   "cell_type": "markdown",
   "metadata": {
    "application/vnd.databricks.v1+cell": {
     "cellMetadata": {
      "byteLimit": 2048000,
      "rowLimit": 10000
     },
     "inputWidgets": {},
     "nuid": "fb13c1bb-7814-4373-ab3b-b23f6784ebe4",
     "showTitle": false,
     "tableResultSettingsMap": {},
     "title": ""
    },
    "id": "__eLt1PSj0AQ"
   },
   "source": [
    "###  Using VectorAssembler to merge the following columns into a 'features' column\n",
    "+ trip_seconds\n",
    "+ trip_miles"
   ]
  },
  {
   "cell_type": "code",
   "execution_count": 0,
   "metadata": {
    "application/vnd.databricks.v1+cell": {
     "cellMetadata": {
      "byteLimit": 2048000,
      "rowLimit": 10000
     },
     "inputWidgets": {},
     "nuid": "89ea8daa-4781-4b04-a2e6-b1bf41e6dd66",
     "showTitle": false,
     "tableResultSettingsMap": {},
     "title": ""
    },
    "colab": {
     "base_uri": "https://localhost:8080/"
    },
    "id": "q-yz6NiBkYbx",
    "outputId": "9e75e295-967c-458d-dbfe-cd4a75e6f710"
   },
   "outputs": [
    {
     "output_type": "stream",
     "name": "stdout",
     "output_type": "stream",
     "text": [
      "+------------+----------+\n|trip_seconds|trip_miles|\n+------------+----------+\n|         180|       0.4|\n+------------+----------+\nonly showing top 1 row\n\n"
     ]
    }
   ],
   "source": [
    "df.select('trip_seconds', 'trip_miles').show(1)"
   ]
  },
  {
   "cell_type": "code",
   "execution_count": 0,
   "metadata": {
    "application/vnd.databricks.v1+cell": {
     "cellMetadata": {
      "byteLimit": 2048000,
      "rowLimit": 10000
     },
     "inputWidgets": {},
     "nuid": "aa424132-25d3-4ea5-baad-151e54dea911",
     "showTitle": false,
     "tableResultSettingsMap": {},
     "title": ""
    },
    "colab": {
     "base_uri": "https://localhost:8080/"
    },
    "id": "in7UWkjBkv-6",
    "outputId": "44887343-1a5d-4f5f-f375-75dda64e22e6"
   },
   "outputs": [
    {
     "output_type": "stream",
     "name": "stdout",
     "output_type": "stream",
     "text": [
      "Assembled columns: 'trip_seconds', 'trip_miles' columns into a 'features' column\n+------------+\n|features    |\n+------------+\n|[180.0,0.4] |\n|[240.0,0.7] |\n|(2,[],[])   |\n|[480.0,1.1] |\n|[480.0,2.71]|\n|[1080.0,6.2]|\n|[60.0,0.2]  |\n|[180.0,0.0] |\n|(2,[],[])   |\n|[480.0,1.3] |\n|[420.0,0.0] |\n|[1380.0,5.1]|\n|[420.0,0.0] |\n|[480.0,0.1] |\n|[720.0,0.0] |\n|[720.0,2.2] |\n|[300.0,0.8] |\n|[420.0,0.0] |\n|[660.0,4.1] |\n|[720.0,2.5] |\n+------------+\nonly showing top 20 rows\n\n"
     ]
    }
   ],
   "source": [
    "from pyspark.ml.linalg import Vectors\n",
    "# library we need\n",
    "from pyspark.ml.feature import VectorAssembler\n",
    "\n",
    "# using VectorAssembler to merge:\n",
    "# 'trip_seconds', 'trip_miles'\n",
    "# columns into a 'features' column\n",
    "\n",
    "assembler = VectorAssembler(\n",
    "    inputCols=['trip_seconds', 'trip_miles'],\n",
    "    outputCol='features')\n",
    "\n",
    "assembler_output = assembler.transform(df) # transforming assembler on df\n",
    "\n",
    "print(\"Assembled columns: 'trip_seconds', 'trip_miles' columns into a 'features' column\")\n",
    "\n",
    "df = assembler_output # assigning assembler_output to df\n",
    "\n",
    "df.select('features').show(truncate=False)"
   ]
  },
  {
   "cell_type": "markdown",
   "metadata": {
    "application/vnd.databricks.v1+cell": {
     "cellMetadata": {
      "byteLimit": 2048000,
      "rowLimit": 10000
     },
     "inputWidgets": {},
     "nuid": "2e909fee-7c6b-4b26-b0aa-ae22ecc97d06",
     "showTitle": false,
     "tableResultSettingsMap": {},
     "title": ""
    },
    "id": "GrRWVwWmglqE"
   },
   "source": [
    "### **Rename the 'fare' column as the 'label' column**\n"
   ]
  },
  {
   "cell_type": "code",
   "execution_count": 0,
   "metadata": {
    "application/vnd.databricks.v1+cell": {
     "cellMetadata": {
      "byteLimit": 2048000,
      "rowLimit": 10000
     },
     "inputWidgets": {},
     "nuid": "f90ab14f-7c26-49eb-bd14-e32d59ff919e",
     "showTitle": false,
     "tableResultSettingsMap": {},
     "title": ""
    },
    "colab": {
     "base_uri": "https://localhost:8080/"
    },
    "id": "F3KKRtAignJc",
    "outputId": "1ee5657f-cb87-4f60-cfb5-7831648082ed"
   },
   "outputs": [
    {
     "output_type": "stream",
     "name": "stdout",
     "output_type": "stream",
     "text": [
      "+-----+------------+----------+------------+-----+\n| fare|trip_seconds|trip_miles|    features|label|\n+-----+------------+----------+------------+-----+\n|  4.5|         180|       0.4| [180.0,0.4]|  4.5|\n| 4.45|         240|       0.7| [240.0,0.7]| 4.45|\n|42.75|           0|       0.0|   (2,[],[])|42.75|\n|  7.0|         480|       1.1| [480.0,1.1]|  7.0|\n|10.25|         480|      2.71|[480.0,2.71]|10.25|\n+-----+------------+----------+------------+-----+\nonly showing top 5 rows\n\n"
     ]
    }
   ],
   "source": [
    "df = df.withColumn('label', df['fare'])\n",
    "# I rather create a new column named 'label' instead of renaming the column to ensure that I used the correct column\n",
    "\n",
    "df.show(5)"
   ]
  },
  {
   "cell_type": "code",
   "execution_count": 0,
   "metadata": {
    "application/vnd.databricks.v1+cell": {
     "cellMetadata": {
      "byteLimit": 2048000,
      "rowLimit": 10000
     },
     "inputWidgets": {},
     "nuid": "732fe24f-cc6b-43e1-b641-4c2d114b6717",
     "showTitle": false,
     "tableResultSettingsMap": {},
     "title": ""
    },
    "colab": {
     "base_uri": "https://localhost:8080/"
    },
    "id": "vqmkOdP_pglY",
    "outputId": "e4642294-e7ba-4368-ff9f-38a28623e124"
   },
   "outputs": [
    {
     "output_type": "execute_result",
     "data": {
      "text/plain": [
       "['fare', 'trip_seconds', 'trip_miles', 'features', 'label']"
      ]
     },
     "execution_count": 330,
     "metadata": {},
     "output_type": "execute_result"
    }
   ],
   "source": [
    "df.columns"
   ]
  },
  {
   "cell_type": "markdown",
   "metadata": {
    "application/vnd.databricks.v1+cell": {
     "cellMetadata": {
      "byteLimit": 2048000,
      "rowLimit": 10000
     },
     "inputWidgets": {},
     "nuid": "755638ae-b27b-45e6-a203-21d5121cd697",
     "showTitle": false,
     "tableResultSettingsMap": {},
     "title": ""
    },
    "id": "Z4yu0DjLqBHS"
   },
   "source": [
    "### Random split the data into a training and test dataset with 70% training and 30% of test dataset (select your own seed)"
   ]
  },
  {
   "cell_type": "code",
   "execution_count": 0,
   "metadata": {
    "application/vnd.databricks.v1+cell": {
     "cellMetadata": {
      "byteLimit": 2048000,
      "rowLimit": 10000
     },
     "inputWidgets": {},
     "nuid": "3d2fe922-655d-47a6-ac7a-5bd62f9afa9f",
     "showTitle": false,
     "tableResultSettingsMap": {},
     "title": ""
    },
    "id": "3D6sMZfEp78e"
   },
   "outputs": [],
   "source": [
    "# Random split the data into a training and test dataset with 70% training and 30% of test dataset\n",
    "(trainingData, testData) = df.randomSplit([0.70, 0.30], 25) # 70/30, seed=25  "
   ]
  },
  {
   "cell_type": "markdown",
   "metadata": {
    "application/vnd.databricks.v1+cell": {
     "cellMetadata": {
      "byteLimit": 2048000,
      "rowLimit": 10000
     },
     "inputWidgets": {},
     "nuid": "2128d001-e9db-4d42-8156-47108e78d526",
     "showTitle": false,
     "tableResultSettingsMap": {},
     "title": ""
    },
    "id": "j9-3mL2pt1Md"
   },
   "source": [
    "#------------------------------------------------------------------------------------------------------------------------------------------"
   ]
  },
  {
   "cell_type": "code",
   "execution_count": 0,
   "metadata": {
    "application/vnd.databricks.v1+cell": {
     "cellMetadata": {
      "byteLimit": 2048000,
      "rowLimit": 10000
     },
     "inputWidgets": {},
     "nuid": "207a4af9-d113-4a0d-8fa7-1166f6b168d7",
     "showTitle": false,
     "tableResultSettingsMap": {},
     "title": ""
    },
    "colab": {
     "base_uri": "https://localhost:8080/"
    },
    "id": "J4JU2w3StPcE",
    "outputId": "85493a64-4849-48fd-e766-eca9dbe747b1"
   },
   "outputs": [
    {
     "output_type": "stream",
     "name": "stdout",
     "output_type": "stream",
     "text": [
      "+----+------------+----------+-----------+-----+\n|fare|trip_seconds|trip_miles|   features|label|\n+----+------------+----------+-----------+-----+\n| 4.5|         180|       0.4|[180.0,0.4]|  4.5|\n+----+------------+----------+-----------+-----+\nonly showing top 1 row\n\n"
     ]
    }
   ],
   "source": [
    "df.show(1)"
   ]
  },
  {
   "cell_type": "markdown",
   "metadata": {
    "application/vnd.databricks.v1+cell": {
     "cellMetadata": {
      "byteLimit": 2048000,
      "rowLimit": 10000
     },
     "inputWidgets": {},
     "nuid": "a29ce99d-9f5e-45c6-8519-91208bb674e8",
     "showTitle": false,
     "tableResultSettingsMap": {},
     "title": ""
    },
    "id": "nNh_kb2qVIfT"
   },
   "source": [
    "# 4. You are asked to forecast fare using trip_seconds, trip_miles and Build a **linear regression with elastic net Regularizers**."
   ]
  },
  {
   "cell_type": "code",
   "execution_count": 0,
   "metadata": {
    "application/vnd.databricks.v1+cell": {
     "cellMetadata": {
      "byteLimit": 2048000,
      "rowLimit": 10000
     },
     "inputWidgets": {},
     "nuid": "627f6c96-ede7-43a5-9549-13e43dac618c",
     "showTitle": false,
     "tableResultSettingsMap": {},
     "title": ""
    },
    "id": "O_GSgCcA0Sqi"
   },
   "outputs": [],
   "source": [
    "# library needed\n",
    "from pyspark.ml.regression import LinearRegression\n",
    "\n",
    "# forecast fare using trip_seconds, trip_miles and Build a linear regression with elastic net Regularizers\n",
    "# label column is 'fare'\n",
    "# 'trip_seconds', 'trip_miles' have been merged into features column\n",
    "\n",
    "\n",
    "# Build a linear regression with elastic net Regularizers                  (Regularizers, elastic net)\n",
    "lr = LinearRegression(featuresCol='features', labelCol='label', maxIter=10, regParam=0.3, elasticNetParam=0.8)\n",
    "\n",
    "lr_model = lr.fit(trainingData) # fitting lr model to trainingData"
   ]
  },
  {
   "cell_type": "markdown",
   "metadata": {
    "application/vnd.databricks.v1+cell": {
     "cellMetadata": {
      "byteLimit": 2048000,
      "rowLimit": 10000
     },
     "inputWidgets": {},
     "nuid": "8a7309ce-59b1-4d1e-854f-94aae32694f3",
     "showTitle": false,
     "tableResultSettingsMap": {},
     "title": ""
    },
    "id": "l366R3S1Vy_B"
   },
   "source": [
    "### Evaluate the model above on the test dataset\n",
    "find the following metrics\n",
    "* RMSE\n",
    "* R squared\n",
    "\n",
    "Please see https://spark.apache.org/docs/latest/api/python/reference/api/pyspark.ml.evaluation.RegressionEvaluator.html\n",
    "for metric names\n",
    "\n",
    "https://www.machinelearningplus.com/pyspark/pyspark-linear-regression/"
   ]
  },
  {
   "cell_type": "code",
   "execution_count": 0,
   "metadata": {
    "application/vnd.databricks.v1+cell": {
     "cellMetadata": {
      "byteLimit": 2048000,
      "rowLimit": 10000
     },
     "inputWidgets": {},
     "nuid": "d8f75f01-4b1b-457b-b4b0-170b18204419",
     "showTitle": false,
     "tableResultSettingsMap": {},
     "title": ""
    },
    "colab": {
     "base_uri": "https://localhost:8080/"
    },
    "id": "z13QxoR3oD-F",
    "outputId": "b4a7d8ed-0f2c-4671-f93f-4b28e883e869"
   },
   "outputs": [
    {
     "output_type": "stream",
     "name": "stdout",
     "output_type": "stream",
     "text": [
      "+----------------+-----+---------+\n|      prediction|label| features|\n+----------------+-----+---------+\n|8.44309918925696|  0.0|(2,[],[])|\n|8.44309918925696|  0.0|(2,[],[])|\n|8.44309918925696|  0.0|(2,[],[])|\n|8.44309918925696|  0.0|(2,[],[])|\n|8.44309918925696|  0.0|(2,[],[])|\n+----------------+-----+---------+\nonly showing top 5 rows\n\nRoot Mean Squared Error (RMSE) on lr_model test data = 24.68797\nR squared (r2) on lr_model test data = 0.01646\n"
     ]
    }
   ],
   "source": [
    "# needed for evaluation\n",
    "from pyspark.ml.evaluation import RegressionEvaluator\n",
    "\n",
    "# evaluate the model performance on the test dataset\n",
    "\n",
    "# Make predictions on the test data set to evalute the lr_model performance\n",
    "lr_predictions = lr_model.transform(testData)\n",
    "\n",
    "lr_predictions.select(\"prediction\", \"label\", \"features\").show(5)\n",
    "\n",
    "#---------------------------------------------------------------------------\n",
    "\n",
    "# RMSE\n",
    "rmse_evaluator_lr = RegressionEvaluator(labelCol=\"label\", predictionCol=\"prediction\", metricName=\"rmse\")\n",
    "rmse_lr = rmse_evaluator_lr.evaluate(lr_predictions)\n",
    "print(f\"Root Mean Squared Error (RMSE) on lr_model test data = {round(rmse_lr, 5)}\")\n",
    "\n",
    "\n",
    "#---------------------------------------------------------------------------\n",
    "\n",
    "# R squared\n",
    "r2_evaluator_lr = RegressionEvaluator(labelCol=\"label\", predictionCol=\"prediction\", metricName=\"r2\")\n",
    "r2_lr = r2_evaluator_lr.evaluate(lr_predictions)\n",
    "print(f\"R squared (r2) on lr_model test data = {round(r2_lr, 5)}\")\n"
   ]
  },
  {
   "cell_type": "markdown",
   "metadata": {
    "application/vnd.databricks.v1+cell": {
     "cellMetadata": {
      "byteLimit": 2048000,
      "rowLimit": 10000
     },
     "inputWidgets": {},
     "nuid": "b7113cde-87df-4f6a-b21f-0b579a832c04",
     "showTitle": false,
     "tableResultSettingsMap": {},
     "title": ""
    },
    "id": "KN9VS8iWVLtZ"
   },
   "source": [
    "# 5. You are asked to forecast fare using trip_seconds, trip_miles and Build a **simple tree model**."
   ]
  },
  {
   "cell_type": "code",
   "execution_count": 0,
   "metadata": {
    "application/vnd.databricks.v1+cell": {
     "cellMetadata": {
      "byteLimit": 2048000,
      "rowLimit": 10000
     },
     "inputWidgets": {},
     "nuid": "0e74b9e4-c117-4d94-9bc6-845153dd1230",
     "showTitle": false,
     "tableResultSettingsMap": {},
     "title": ""
    },
    "id": "auCKa588WZxc"
   },
   "outputs": [],
   "source": [
    "# libary for tree regression\n",
    "from pyspark.ml.regression import DecisionTreeRegressor\n",
    "\n",
    "# forecast fare using trip_seconds, trip_miles and Build a simple tree model.\n",
    "# label column is 'fare'\n",
    "# 'trip_seconds', 'trip_miles' have been merged into features column\n",
    "\n",
    "# Build a simple tree model.\n",
    "dt = DecisionTreeRegressor(featuresCol='features', labelCol='label')\n",
    "\n",
    "dt_model = dt.fit(trainingData) # fitting dt model to trainingData"
   ]
  },
  {
   "cell_type": "markdown",
   "metadata": {
    "application/vnd.databricks.v1+cell": {
     "cellMetadata": {
      "byteLimit": 2048000,
      "rowLimit": 10000
     },
     "inputWidgets": {},
     "nuid": "fe34e368-be16-47a5-9137-982035028186",
     "showTitle": false,
     "tableResultSettingsMap": {},
     "title": ""
    },
    "id": "OdlIQ3WeWIJV"
   },
   "source": [
    "### Evaluate the model above on the test dataset\n",
    "find the following metrics\n",
    "* RMSE\n",
    "* R squared\n",
    "\n",
    "Please see https://spark.apache.org/docs/latest/api/python/reference/api/pyspark.ml.evaluation.RegressionEvaluator.html\n",
    "for metric names\n",
    "\n",
    "https://www.machinelearningplus.com/pyspark/pyspark-linear-regression/"
   ]
  },
  {
   "cell_type": "code",
   "execution_count": 0,
   "metadata": {
    "application/vnd.databricks.v1+cell": {
     "cellMetadata": {
      "byteLimit": 2048000,
      "rowLimit": 10000
     },
     "inputWidgets": {},
     "nuid": "4d68d8d6-6aa3-4e1e-9fa5-b04d6ca8b3ae",
     "showTitle": false,
     "tableResultSettingsMap": {},
     "title": ""
    },
    "colab": {
     "base_uri": "https://localhost:8080/"
    },
    "id": "LQ_PWqmdWHsD",
    "outputId": "36d672a2-80f1-4df2-c6a8-b7e8a8e2a2cf"
   },
   "outputs": [
    {
     "output_type": "stream",
     "name": "stdout",
     "output_type": "stream",
     "text": [
      "+------------------+-----+---------+\n|        prediction|label| features|\n+------------------+-----+---------+\n|15.334811445003858|  0.0|(2,[],[])|\n|15.334811445003858|  0.0|(2,[],[])|\n|15.334811445003858|  0.0|(2,[],[])|\n|15.334811445003858|  0.0|(2,[],[])|\n|15.334811445003858|  0.0|(2,[],[])|\n+------------------+-----+---------+\nonly showing top 5 rows\n\nRoot Mean Squared Error (RMSE) on dt_model test data = 24.03635\nR squared (r2) on dt_model test data = 0.06769\n"
     ]
    }
   ],
   "source": [
    "# evaluate the model performance on the test dataset\n",
    "\n",
    "# Make predictions on the test data set to evalute the dt_model performance\n",
    "dt_predictions = dt_model.transform(testData)\n",
    "\n",
    "dt_predictions.select(\"prediction\", \"label\", \"features\").show(5)\n",
    "\n",
    "#---------------------------------------------------------------------------\n",
    "\n",
    "# RMSE\n",
    "rmse_evaluator_dt = RegressionEvaluator(labelCol=\"label\", predictionCol=\"prediction\", metricName=\"rmse\")\n",
    "rmse_dt = rmse_evaluator_dt.evaluate(dt_predictions)\n",
    "print(f\"Root Mean Squared Error (RMSE) on dt_model test data = {round(rmse_dt, 5)}\")\n",
    "\n",
    "\n",
    "#---------------------------------------------------------------------------\n",
    "\n",
    "# R squared\n",
    "r2_evaluator_dt = RegressionEvaluator(labelCol=\"label\", predictionCol=\"prediction\", metricName=\"r2\")\n",
    "r2_dt = r2_evaluator_dt.evaluate(dt_predictions)\n",
    "print(f\"R squared (r2) on dt_model test data = {round(r2_dt, 5)}\")\n"
   ]
  },
  {
   "cell_type": "markdown",
   "metadata": {
    "application/vnd.databricks.v1+cell": {
     "cellMetadata": {
      "byteLimit": 2048000,
      "rowLimit": 10000
     },
     "inputWidgets": {},
     "nuid": "db096606-c33b-4b7e-b0bf-29a8f355eee3",
     "showTitle": false,
     "tableResultSettingsMap": {},
     "title": ""
    },
    "id": "YacSCf3kVP4N"
   },
   "source": [
    "# 6. You are asked to forecast fare using trip_seconds, trip_miles and Build a **random forest model**."
   ]
  },
  {
   "cell_type": "code",
   "execution_count": 0,
   "metadata": {
    "application/vnd.databricks.v1+cell": {
     "cellMetadata": {
      "byteLimit": 2048000,
      "rowLimit": 10000
     },
     "inputWidgets": {},
     "nuid": "9b997f79-705d-4a20-8f7c-60fe153aaece",
     "showTitle": false,
     "tableResultSettingsMap": {},
     "title": ""
    },
    "id": "1bVpKhvQWaR3"
   },
   "outputs": [],
   "source": [
    "# libary for random forest regressor for regression\n",
    "from pyspark.ml.regression import RandomForestRegressor\n",
    "\n",
    "# forecast fare using trip_seconds, trip_miles and Build a random forest model\n",
    "# label column is 'fare'\n",
    "# 'trip_seconds', 'trip_miles' have been merged into features column\n",
    "\n",
    "# Build a random forest model\n",
    "rf = RandomForestRegressor(featuresCol='features', labelCol='label')\n",
    "\n",
    "rf_model = rf.fit(trainingData) # fitting rf model to trainingData"
   ]
  },
  {
   "cell_type": "markdown",
   "metadata": {
    "application/vnd.databricks.v1+cell": {
     "cellMetadata": {
      "byteLimit": 2048000,
      "rowLimit": 10000
     },
     "inputWidgets": {},
     "nuid": "fe506ead-a056-413a-aaa7-2f91e8c707ea",
     "showTitle": false,
     "tableResultSettingsMap": {},
     "title": ""
    },
    "id": "xiefhXrLWKHK"
   },
   "source": [
    "### Evaluate the model above on the test dataset\n",
    "find the following metrics\n",
    "* RMSE\n",
    "* R squared\n",
    "\n",
    "Please see https://spark.apache.org/docs/latest/api/python/reference/api/pyspark.ml.evaluation.RegressionEvaluator.html\n",
    "for metric names\n",
    "\n",
    "https://www.machinelearningplus.com/pyspark/pyspark-linear-regression/"
   ]
  },
  {
   "cell_type": "code",
   "execution_count": 0,
   "metadata": {
    "application/vnd.databricks.v1+cell": {
     "cellMetadata": {
      "byteLimit": 2048000,
      "rowLimit": 10000
     },
     "inputWidgets": {},
     "nuid": "15802949-7e9e-4d4d-a70c-40350859c15a",
     "showTitle": false,
     "tableResultSettingsMap": {},
     "title": ""
    },
    "colab": {
     "base_uri": "https://localhost:8080/"
    },
    "id": "8hsSleeYWJ4x",
    "outputId": "465856ca-e208-4ab8-ce12-1d2aefb8bdcf"
   },
   "outputs": [
    {
     "output_type": "stream",
     "name": "stdout",
     "output_type": "stream",
     "text": [
      "+------------------+-----+---------+\n|        prediction|label| features|\n+------------------+-----+---------+\n|14.263663242462693|  0.0|(2,[],[])|\n|14.263663242462693|  0.0|(2,[],[])|\n|14.263663242462693|  0.0|(2,[],[])|\n|14.263663242462693|  0.0|(2,[],[])|\n|14.263663242462693|  0.0|(2,[],[])|\n+------------------+-----+---------+\nonly showing top 5 rows\n\nRoot Mean Squared Error (RMSE) on rf_model test data = 23.27235\nR squared (r2) on rf_model test data = 0.06969\n"
     ]
    }
   ],
   "source": [
    "# evaluate the model performance on the test dataset\n",
    "\n",
    "# Make predictions on the test data set to evalute the rf_model performance\n",
    "rf_predictions = rf_model.transform(testData)\n",
    "\n",
    "rf_predictions.select(\"prediction\", \"label\", \"features\").show(5)\n",
    "\n",
    "#---------------------------------------------------------------------------\n",
    "\n",
    "# RMSE\n",
    "rmse_evaluator_rf = RegressionEvaluator(labelCol=\"label\", predictionCol=\"prediction\", metricName=\"rmse\")\n",
    "rmse_rf = rmse_evaluator_rf.evaluate(rf_predictions)\n",
    "print(f\"Root Mean Squared Error (RMSE) on rf_model test data = {round(rmse_rf, 5)}\")\n",
    "\n",
    "\n",
    "#---------------------------------------------------------------------------\n",
    "\n",
    "# R squared\n",
    "r2_evaluator_rf = RegressionEvaluator(labelCol=\"label\", predictionCol=\"prediction\", metricName=\"r2\")\n",
    "r2_rf = r2_evaluator_rf.evaluate(rf_predictions)\n",
    "print(f\"R squared (r2) on rf_model test data = {round(r2_rf, 5)}\")"
   ]
  },
  {
   "cell_type": "markdown",
   "metadata": {
    "application/vnd.databricks.v1+cell": {
     "cellMetadata": {
      "byteLimit": 2048000,
      "rowLimit": 10000
     },
     "inputWidgets": {},
     "nuid": "8dba7f49-6680-45d7-85fa-6cb730b43144",
     "showTitle": false,
     "tableResultSettingsMap": {},
     "title": ""
    },
    "id": "mgiLFd1ZVTI9"
   },
   "source": [
    "# 7. You are asked to forecast fare using trip_seconds, trip_miles and Build a **Gradient-Boosted Tree**"
   ]
  },
  {
   "cell_type": "code",
   "execution_count": 0,
   "metadata": {
    "application/vnd.databricks.v1+cell": {
     "cellMetadata": {
      "byteLimit": 2048000,
      "rowLimit": 10000
     },
     "inputWidgets": {},
     "nuid": "4259f4cd-34f9-46c0-bd4d-41ac91b200c7",
     "showTitle": false,
     "tableResultSettingsMap": {},
     "title": ""
    },
    "id": "zHErI5NXWa4q"
   },
   "outputs": [],
   "source": [
    "# libary gradient boosted tree for regression\n",
    "from pyspark.ml.regression import GBTRegressor\n",
    "\n",
    "# forecast fare using trip_seconds, trip_miles and Build a Gradient-Boosted Tree\n",
    "# label column is 'fare'\n",
    "# 'trip_seconds', 'trip_miles' have been merged into features column\n",
    "\n",
    "# Build a Gradient-Boosted Tree\n",
    "gbt = GBTRegressor(featuresCol='features', labelCol='label', maxIter=10)\n",
    "\n",
    "gbt_model = gbt.fit(trainingData) # fitting gbt model to trainingData"
   ]
  },
  {
   "cell_type": "markdown",
   "metadata": {
    "application/vnd.databricks.v1+cell": {
     "cellMetadata": {
      "byteLimit": 2048000,
      "rowLimit": 10000
     },
     "inputWidgets": {},
     "nuid": "be1b3ae8-09db-4b32-9f05-c1b26adaa9d9",
     "showTitle": false,
     "tableResultSettingsMap": {},
     "title": ""
    },
    "id": "dkXCYRGlWLu6"
   },
   "source": [
    "### Evaluate the model above on the test dataset\n",
    "find the following metrics\n",
    "* RMSE\n",
    "* R squared\n",
    "\n",
    "Please see https://spark.apache.org/docs/latest/api/python/reference/api/pyspark.ml.evaluation.RegressionEvaluator.html\n",
    "for metric names\n",
    "\n",
    "https://www.machinelearningplus.com/pyspark/pyspark-linear-regression/"
   ]
  },
  {
   "cell_type": "code",
   "execution_count": 0,
   "metadata": {
    "application/vnd.databricks.v1+cell": {
     "cellMetadata": {
      "byteLimit": 2048000,
      "rowLimit": 10000
     },
     "inputWidgets": {},
     "nuid": "923540de-c861-4ea9-9141-d8f2889be2a5",
     "showTitle": false,
     "tableResultSettingsMap": {},
     "title": ""
    },
    "colab": {
     "base_uri": "https://localhost:8080/"
    },
    "id": "SmimJnVPWMPj",
    "outputId": "967652f9-6a43-4028-ffc8-182635679878"
   },
   "outputs": [
    {
     "output_type": "stream",
     "name": "stdout",
     "output_type": "stream",
     "text": [
      "+------------------+-----+---------+\n|        prediction|label| features|\n+------------------+-----+---------+\n|15.332384130555218|  0.0|(2,[],[])|\n|15.332384130555218|  0.0|(2,[],[])|\n|15.332384130555218|  0.0|(2,[],[])|\n|15.332384130555218|  0.0|(2,[],[])|\n|15.332384130555218|  0.0|(2,[],[])|\n+------------------+-----+---------+\nonly showing top 5 rows\n\nRoot Mean Squared Error (RMSE) on gbt_model test data = 23.21602\nR squared (r2) on gbt_model test data = 0.07419\n"
     ]
    }
   ],
   "source": [
    "# evaluate the model performance on the test dataset\n",
    "\n",
    "# Make predictions on the test data set to evalute the gbt_model performance\n",
    "gbt_predictions = gbt_model.transform(testData)\n",
    "\n",
    "gbt_predictions.select(\"prediction\", \"label\", \"features\").show(5)\n",
    "\n",
    "#---------------------------------------------------------------------------\n",
    "\n",
    "# RMSE\n",
    "rmse_evaluator_gbt = RegressionEvaluator(labelCol=\"label\", predictionCol=\"prediction\", metricName=\"rmse\")\n",
    "rmse_gbt = rmse_evaluator_gbt.evaluate(gbt_predictions)\n",
    "print(f\"Root Mean Squared Error (RMSE) on gbt_model test data = {round(rmse_gbt, 5)}\")\n",
    "\n",
    "\n",
    "#---------------------------------------------------------------------------\n",
    "\n",
    "# R squared\n",
    "r2_evaluator_gbt = RegressionEvaluator(labelCol=\"label\", predictionCol=\"prediction\", metricName=\"r2\")\n",
    "r2_gbt = r2_evaluator_gbt.evaluate(gbt_predictions)\n",
    "print(f\"R squared (r2) on gbt_model test data = {round(r2_gbt, 5)}\")"
   ]
  },
  {
   "cell_type": "markdown",
   "metadata": {
    "application/vnd.databricks.v1+cell": {
     "cellMetadata": {
      "byteLimit": 2048000,
      "rowLimit": 10000
     },
     "inputWidgets": {},
     "nuid": "c1f13ee9-cc35-40f6-9209-27f4604ba8e9",
     "showTitle": false,
     "tableResultSettingsMap": {},
     "title": ""
    },
    "id": "vdip57ZaVWrL"
   },
   "source": [
    "# 8. Which model do you recommend to use? Justify your answer."
   ]
  },
  {
   "cell_type": "code",
   "execution_count": 0,
   "metadata": {
    "application/vnd.databricks.v1+cell": {
     "cellMetadata": {
      "byteLimit": 2048000,
      "rowLimit": 10000
     },
     "inputWidgets": {},
     "nuid": "74c6db23-7cf4-4389-ac5d-9330515e3bba",
     "showTitle": false,
     "tableResultSettingsMap": {},
     "title": ""
    },
    "colab": {
     "base_uri": "https://localhost:8080/"
    },
    "id": "WfI8L8dcYfRx",
    "outputId": "a2d11621-6dfb-4cc0-d967-a151fc237abe"
   },
   "outputs": [
    {
     "output_type": "stream",
     "name": "stdout",
     "output_type": "stream",
     "text": [
      "The Range for RMSE from 0 is perfect, and any number further away from 0 is the worst. Range (0 to infinity).\nThe Lowest Root Mean Squared Error (RMSE) is = 23.21602\n\nThe Range for R squared is from (0 Bad and 1 Perfect). The highest R squared is the best.\nThe Highest R squared (r2) is = 0.07419\n"
     ]
    }
   ],
   "source": [
    "print(\"The Range for RMSE from 0 is perfect, and any number further away from 0 is the worst. Range (0 to infinity).\")\n",
    "print(f\"The Lowest Root Mean Squared Error (RMSE) is = {round(min(rmse_lr, rmse_dt, rmse_rf, rmse_gbt), 5)}\\n\")\n",
    "\n",
    "print(\"The Range for R squared is from (0 Bad and 1 Perfect). The highest R squared is the best.\")\n",
    "print(f\"The Highest R squared (r2) is = {round(max(r2_lr, r2_dt, r2_rf, r2_gbt), 5)}\")"
   ]
  },
  {
   "cell_type": "code",
   "execution_count": 0,
   "metadata": {
    "application/vnd.databricks.v1+cell": {
     "cellMetadata": {
      "byteLimit": 2048000,
      "rowLimit": 10000
     },
     "inputWidgets": {},
     "nuid": "267a6474-a0f5-4eb3-99fe-410fcd293ab9",
     "showTitle": false,
     "tableResultSettingsMap": {},
     "title": ""
    },
    "colab": {
     "base_uri": "https://localhost:8080/"
    },
    "id": "l65QF1XQXJ7L",
    "outputId": "5b661029-a296-40bb-eb1d-3371d538ed77"
   },
   "outputs": [
    {
     "output_type": "stream",
     "name": "stdout",
     "output_type": "stream",
     "text": [
      "\t\t\t\tlr,\t\t  dt,              rf,         gbt\n----------------------------------------------------------------------------------------------------\nThe RMSE's are: (24.687971451992397, 24.036346493617728, 23.272348360967786, 23.21602322625551)\nThe r2's are:   (0.016457091846507566, 0.06769200175440582, 0.06969173997198053, 0.07418946635199597)\n"
     ]
    }
   ],
   "source": [
    "print(f\"\\t\\t\\t\\tlr,\\t\\t  dt,              rf,         gbt\")\n",
    "print(\"--\"*50)\n",
    "print(f\"The RMSE's are: {rmse_lr, rmse_dt, rmse_rf, rmse_gbt}\")\n",
    "print(f\"The r2's are:   {r2_lr, r2_dt, r2_rf, r2_gbt}\")"
   ]
  },
  {
   "cell_type": "markdown",
   "metadata": {
    "application/vnd.databricks.v1+cell": {
     "cellMetadata": {
      "byteLimit": 2048000,
      "rowLimit": 10000
     },
     "inputWidgets": {},
     "nuid": "54185277-9bd0-4eb4-9a49-b6181c7cee2c",
     "showTitle": false,
     "tableResultSettingsMap": {},
     "title": ""
    },
    "id": "y6GN0irsegp3"
   },
   "source": [
    "### **For Presentation**: Creating Horizontal Bar plots to show which model is best based on RMSE and R2"
   ]
  },
  {
   "cell_type": "code",
   "execution_count": 0,
   "metadata": {
    "application/vnd.databricks.v1+cell": {
     "cellMetadata": {
      "byteLimit": 2048000,
      "rowLimit": 10000
     },
     "inputWidgets": {},
     "nuid": "1b78c2f7-cbc9-4f61-8a8e-88ef096a821e",
     "showTitle": false,
     "tableResultSettingsMap": {},
     "title": ""
    },
    "colab": {
     "base_uri": "https://localhost:8080/",
     "height": 487
    },
    "id": "n6Ao85i7ehzA",
    "outputId": "349e5281-9088-4587-95e9-234d324beffb"
   },
   "outputs": [
    {
     "output_type": "display_data",
     "data": {
      "image/png": "[encoded data removed]",
      "text/plain": [
       "<Figure size 1200x500 with 2 Axes>"
      ]
     },
     "metadata": {},
     "output_type": "display_data"
    }
   ],
   "source": [
    "import matplotlib.pyplot as plt\n",
    "\n",
    "model_labels = ['lr', 'dt', 'rf', 'gbt']\n",
    "rmse_values = [rmse_lr, rmse_dt, rmse_rf, rmse_gbt]\n",
    "# rmse_values = [25.44285, 24.79613, 24.83823, 24.77321]\n",
    "\n",
    "# rmse_values = [round(x, 5) for x in rmse_values]\n",
    "\n",
    "r2_values = [r2_lr, r2_dt, r2_rf, r2_gbt]\n",
    "# r2_values =  [0.01515, 0.06458, 0.0614, 0.06631]\n",
    "\n",
    "plt.figure(figsize=[12,5])\n",
    "\n",
    "plt.subplot(1, 2, 1)\n",
    "plt.barh(model_labels, rmse_values, color= 'peru')\n",
    "plt.xlabel('Values')\n",
    "plt.ylabel('Models')\n",
    "plt.title('RMSE for Different Models')\n",
    "plt.xlim(min(rmse_values) -0.05, max(rmse_values) +0.05)\n",
    "plt.grid(axis='x', color='k', ls= '--')\n",
    "\n",
    "plt.subplot(1, 2, 2)\n",
    "plt.barh(model_labels, r2_values, color='salmon')\n",
    "plt.xlabel('Values')\n",
    "plt.ylabel('Models')\n",
    "plt.title('R-squared for Different Models')\n",
    "plt.grid(axis='x', color='k', ls= '--')\n",
    "plt.show()"
   ]
  },
  {
   "cell_type": "markdown",
   "metadata": {
    "application/vnd.databricks.v1+cell": {
     "cellMetadata": {
      "byteLimit": 2048000,
      "rowLimit": 10000
     },
     "inputWidgets": {},
     "nuid": "d6d643eb-35f0-47d7-bc3b-ac7d7c78bc8f",
     "showTitle": false,
     "tableResultSettingsMap": {},
     "title": ""
    },
    "id": "Vo6fb-XelEi9"
   },
   "source": [
    "### Finding which model is the best based on RMSE and R2\n",
    "The if-elif statements are used to find the best model and assign it to the variable best_model and best_intial_model"
   ]
  },
  {
   "cell_type": "code",
   "execution_count": 0,
   "metadata": {
    "application/vnd.databricks.v1+cell": {
     "cellMetadata": {
      "byteLimit": 2048000,
      "rowLimit": 10000
     },
     "inputWidgets": {},
     "nuid": "d798ff4d-be4e-4ff7-bbd4-8c3ca608df7c",
     "showTitle": false,
     "tableResultSettingsMap": {},
     "title": ""
    },
    "colab": {
     "base_uri": "https://localhost:8080/"
    },
    "id": "h2uyAXt4YNR6",
    "outputId": "a4818ba4-5d66-4874-f3a4-286d0b7dba48"
   },
   "outputs": [
    {
     "output_type": "stream",
     "name": "stdout",
     "output_type": "stream",
     "text": [
      "The best model: GBTRegressionModel: uid=GBTRegressor_17b796f9760d, numTrees=10, numFeatures=2\n\nThe best initial model: GBTRegressor_17b796f9760d\n"
     ]
    }
   ],
   "source": [
    "# finding which model is the best based on rmse and r2\n",
    "# the if-elif statements are used to find the best model are assign it to the varible best_model\n",
    "\n",
    "min_rmse = min(rmse_lr, rmse_dt, rmse_rf, rmse_gbt)\n",
    "max_r2 = max(r2_lr, r2_dt, r2_rf, r2_gbt)\n",
    "\n",
    "# Initialize best_model and best_intial_model\n",
    "best_model = None\n",
    "best_intial_model = None\n",
    "\n",
    "if (min_rmse == rmse_lr and max_r2 == r2_lr):\n",
    "    best_model = lr_model        # lr_model\n",
    "    best_intial_model = lr       # lr\n",
    "\n",
    "elif(min_rmse == rmse_dt and max_r2 == r2_dt):\n",
    "    best_model = dt_model        # dt_model\n",
    "    best_intial_model = dt       # dt\n",
    "\n",
    "elif(min_rmse == rmse_rf and max_r2 == r2_rf):\n",
    "    best_model = rf_model        # rf_model\n",
    "    best_intial_model = rf       # rf\n",
    "\n",
    "elif(min_rmse == rmse_gbt and max_r2 == r2_gbt):\n",
    "    best_model = gbt_model       # gbt_model\n",
    "    best_intial_model = gbt      # gbt\n",
    "\n",
    "else:\n",
    "    print(\"No best model\")\n",
    "\n",
    "print(f\"The best model: {best_model}\")\n",
    "print()\n",
    "print(f\"The best initial model: {best_intial_model}\")"
   ]
  },
  {
   "cell_type": "markdown",
   "metadata": {
    "application/vnd.databricks.v1+cell": {
     "cellMetadata": {
      "byteLimit": 2048000,
      "rowLimit": 10000
     },
     "inputWidgets": {},
     "nuid": "835789f5-8219-4e76-88af-673afc7bce79",
     "showTitle": false,
     "tableResultSettingsMap": {},
     "title": ""
    },
    "id": "tS7LUTYjWbke"
   },
   "source": [
    "### **Justifying My Answer**\n",
    "\n",
    "The model I recommend using is the **Gradient-Boosted Tree (gbt) model**.\n",
    "\n",
    "Gradient-Boosted Tree is the best model built out of the four regression models: linear regression with elastic net Regularizers, simple tree model, random forest model, and Gradient-Boosted Tree.\n",
    "\n",
    "Since the Gradient-Boosted Tree model's Root Mean Squared Error (RMSE) is the closest to 0, it is the best; it is the lowest of the other models.\n",
    "\n",
    "Then, the Gradient-Boosted Tree model's R squared (r2) is the best because it is the closest to 1. It is the highest out of the other models.\n"
   ]
  },
  {
   "cell_type": "markdown",
   "metadata": {
    "application/vnd.databricks.v1+cell": {
     "cellMetadata": {
      "byteLimit": 2048000,
      "rowLimit": 10000
     },
     "inputWidgets": {},
     "nuid": "52116696-b918-4dd9-9ca4-1d66a52c41f8",
     "showTitle": false,
     "tableResultSettingsMap": {},
     "title": ""
    },
    "id": "uI_ANyzNVbko"
   },
   "source": [
    "# 9. Please perform hyperparameter tuning on the model you selected in step 8. (sine it is a huge dataset, you may use 1 parameter for each hyperparameters to save time)"
   ]
  },
  {
   "cell_type": "markdown",
   "metadata": {
    "application/vnd.databricks.v1+cell": {
     "cellMetadata": {
      "byteLimit": 2048000,
      "rowLimit": 10000
     },
     "inputWidgets": {},
     "nuid": "fb1c5813-f977-4f1d-9de3-984715440f87",
     "showTitle": false,
     "tableResultSettingsMap": {},
     "title": ""
    },
    "id": "W_C5pkTbfihp"
   },
   "source": [
    "### Universal Hyperparameter Tuning\n",
    "#### (distinct parameters that can be used for any model)\n",
    "I created if-elif statements that identify the best initial model compared to lr, rf, dt, and gbt.\n",
    "\n",
    "Do not use CrossValidator is very expensive. Instead, **use the Train-Validation Split, which is less expensive**."
   ]
  },
  {
   "cell_type": "code",
   "execution_count": 0,
   "metadata": {
    "application/vnd.databricks.v1+cell": {
     "cellMetadata": {
      "byteLimit": 2048000,
      "rowLimit": 10000
     },
     "inputWidgets": {},
     "nuid": "aede121d-5d52-4d40-b7aa-f558e438c749",
     "showTitle": false,
     "tableResultSettingsMap": {},
     "title": ""
    },
    "colab": {
     "base_uri": "https://localhost:8080/"
    },
    "id": "IQQ0VLs_dpH-",
    "outputId": "4b7824b7-ab81-468b-e696-91eb8977caac"
   },
   "outputs": [
    {
     "output_type": "stream",
     "name": "stdout",
     "output_type": "stream",
     "text": [
      "The best_intial_model is GBTRegressor_17b796f9760d (gbt)\n"
     ]
    }
   ],
   "source": [
    "# hyperparameter tuning on the best model using Train Validation Split and parameter grid builder\n",
    "# libraries for Train Validation Split and parameter grid builder\n",
    "from pyspark.ml.tuning import TrainValidationSplit, ParamGridBuilder\n",
    "\n",
    "# Hyperparameter Tuning parameter that can be used for any model\n",
    "\n",
    "# parameter grid builder\n",
    "if (best_intial_model == lr): # For lr\n",
    "  print(f\"The best_intial_model is {best_intial_model} (lr)\")\n",
    "  paramGrid = ParamGridBuilder().addGrid(best_intial_model.regParam, [0.1, 0.01, 10]).build() # using 1 parameter (lr)\n",
    "\n",
    "# elif (best_intial_model in [dt, rf, gbt]):  # For dt, rf, gbt\n",
    "#   print(f\"The best_intial_model is {best_intial_model} (dt, rf, gbt)\")\n",
    "#   paramGrid = ParamGridBuilder().addGrid(best_intial_model.maxDepth, [3, 4, 5, 6]).build() # using 1 parameter (dt, rf, gbt)\n",
    "\n",
    "# else:\n",
    "#   print(\"No best intial model\")\n",
    "\n",
    "\n",
    "# With the parametersabove the optimal number of cluster is 4.\n",
    "\n",
    "# Above created Universal Hyperparameter for dt, rf, gbt\n",
    "# parameters for each model (if needed)\n",
    "\n",
    "elif (best_intial_model == dt):  # For dt\n",
    "  print(f\"The best_intial_model is {best_intial_model} (dt)\")\n",
    "  paramGrid = ParamGridBuilder().addGrid(best_intial_model.maxDepth, [3, 4, 5, 6]).build() # using 1 parameter (dt)\n",
    "\n",
    "elif (best_intial_model == rf): # For rf\n",
    "  print(f\"The best_intial_model is {best_intial_model} (rf)\")\n",
    "  paramGrid = ParamGridBuilder().addGrid(best_intial_model.numTrees, [5, 10, 20, 30]).build() # using 1 parameter (rf)\n",
    "\n",
    "elif (best_intial_model == gbt): # For gbt\n",
    "  print(f\"The best_intial_model is {best_intial_model} (gbt)\")      # (removed 2nd parameter took to long just say with 1 parameter)\n",
    "  paramGrid = ParamGridBuilder().addGrid(best_intial_model.minInstancesPerNode, [1, 2, 5, 10]).build() # using 1 parameter (gbt)\n",
    "\n",
    "else:\n",
    "  print(\"No best intial model\")\n",
    "\n",
    "# TrainValidationSplit\n",
    "tvs = TrainValidationSplit(estimator=best_intial_model,\n",
    "                           estimatorParamMaps=paramGrid,\n",
    "                           evaluator=RegressionEvaluator(), #Evaluate the model using regression\n",
    "                           trainRatio=0.80)  # (80/20) 80% for training/ 20% for validation\n"
   ]
  },
  {
   "cell_type": "markdown",
   "metadata": {
    "application/vnd.databricks.v1+cell": {
     "cellMetadata": {
      "byteLimit": 2048000,
      "rowLimit": 10000
     },
     "inputWidgets": {},
     "nuid": "d0262259-fba1-4d54-bb83-118193f42ca5",
     "showTitle": false,
     "tableResultSettingsMap": {},
     "title": ""
    },
    "id": "K_4xhntWFW5w"
   },
   "source": [
    "### Regression Evaluation based on Hyperparameter Tuning on the model\n",
    "One parameter for each hyperparameter"
   ]
  },
  {
   "cell_type": "code",
   "execution_count": 0,
   "metadata": {
    "application/vnd.databricks.v1+cell": {
     "cellMetadata": {
      "byteLimit": 2048000,
      "rowLimit": 10000
     },
     "inputWidgets": {},
     "nuid": "e818dc12-cc0c-47a2-b118-209288212cb7",
     "showTitle": false,
     "tableResultSettingsMap": {},
     "title": ""
    },
    "colab": {
     "base_uri": "https://localhost:8080/"
    },
    "id": "tLkD6iJl8lWF",
    "outputId": "dcec7fcc-53a3-4212-a718-730d01986609"
   },
   "outputs": [
    {
     "output_type": "stream",
     "name": "stdout",
     "output_type": "stream",
     "text": [
      "TrainValidationSplit results with the parameter I choose\n+---------+-----+------------------+\n| features|label|        prediction|\n+---------+-----+------------------+\n|(2,[],[])|  0.0|15.332384130555221|\n|(2,[],[])|  0.0|15.332384130555221|\n|(2,[],[])|  0.0|15.332384130555221|\n|(2,[],[])|  0.0|15.332384130555221|\n|(2,[],[])|  0.0|15.332384130555221|\n+---------+-----+------------------+\nonly showing top 5 rows\n\nRoot Mean Squared Error (RMSE) on model_tvs test data = 23.21602\nR squared (r2) on model_tvs test data = 0.07419\n"
     ]
    }
   ],
   "source": [
    "# Run TrainValidationSplit\n",
    "# since it is a huge dataset, you may use 1 parameter for each hyperparameters to save time\n",
    "# refit on the whole training dataset\n",
    "\n",
    "print(\"TrainValidationSplit results with the parameter I choose\")\n",
    "\n",
    "model_tvs = tvs.fit(trainingData)\n",
    "\n",
    "# Make predictions on the test data set model with the parameters that performed best.\n",
    "tvs_predictions = model_tvs.transform(testData)\n",
    "\n",
    "tvs_predictions.select(\"features\", \"label\", \"prediction\").show(5)\n",
    "\n",
    "#---------------------------------------------------------------------------\n",
    "\n",
    "# RMSE\n",
    "rmse_evaluator_tvs = RegressionEvaluator(labelCol=\"label\", predictionCol=\"prediction\", metricName=\"rmse\")\n",
    "rmse_tvs = rmse_evaluator_tvs.evaluate(tvs_predictions)\n",
    "print(f\"Root Mean Squared Error (RMSE) on model_tvs test data = {round(rmse_tvs, 5)}\")\n",
    "\n",
    "\n",
    "#---------------------------------------------------------------------------\n",
    "\n",
    "# R squared\n",
    "r2_evaluator_tvs = RegressionEvaluator(labelCol=\"label\", predictionCol=\"prediction\", metricName=\"r2\")\n",
    "r2_tvs = r2_evaluator_tvs.evaluate(tvs_predictions)\n",
    "print(f\"R squared (r2) on model_tvs test data = {round(r2_tvs, 5)}\")"
   ]
  },
  {
   "cell_type": "markdown",
   "metadata": {
    "application/vnd.databricks.v1+cell": {
     "cellMetadata": {
      "byteLimit": 2048000,
      "rowLimit": 10000
     },
     "inputWidgets": {},
     "nuid": "ccea2a08-256f-4d21-a8e8-6cd2ee25a593",
     "showTitle": false,
     "tableResultSettingsMap": {},
     "title": ""
    },
    "id": "vJ55o72C7247"
   },
   "source": [
    "### Previous Results from the Different Models Before Hyperparameter Tuning"
   ]
  },
  {
   "cell_type": "code",
   "execution_count": 0,
   "metadata": {
    "application/vnd.databricks.v1+cell": {
     "cellMetadata": {
      "byteLimit": 2048000,
      "rowLimit": 10000
     },
     "inputWidgets": {},
     "nuid": "36ce4a7f-621c-43cc-9527-1b95c663d958",
     "showTitle": false,
     "tableResultSettingsMap": {},
     "title": ""
    },
    "colab": {
     "base_uri": "https://localhost:8080/"
    },
    "id": "Cu_e-zdWTIRB",
    "outputId": "cd3369af-b04a-4159-adf4-9c5ce82da14b"
   },
   "outputs": [
    {
     "output_type": "stream",
     "name": "stdout",
     "output_type": "stream",
     "text": [
      "                   gbt\n---------------------------\nThe RMSE's are: 23.21602\nThe r2's are:   0.07419\n"
     ]
    }
   ],
   "source": [
    "print(f\"                   gbt\")\n",
    "print(\"---------------------------\")\n",
    "print(f\"The RMSE's are: {round(rmse_gbt, 5)}\")\n",
    "print(f\"The r2's are:   {round(r2_gbt, 5)}\")"
   ]
  },
  {
   "cell_type": "markdown",
   "metadata": {
    "application/vnd.databricks.v1+cell": {
     "cellMetadata": {
      "byteLimit": 2048000,
      "rowLimit": 10000
     },
     "inputWidgets": {},
     "nuid": "fd63d992-bcde-4d7c-b01b-d64b56e616c0",
     "showTitle": false,
     "tableResultSettingsMap": {},
     "title": ""
    },
    "id": "LvDC0x32TGI-"
   },
   "source": [
    "### **Comparing Hyperparameter Tuning Results vs the Previous Results from the Best Model Found**"
   ]
  },
  {
   "cell_type": "code",
   "execution_count": 0,
   "metadata": {
    "application/vnd.databricks.v1+cell": {
     "cellMetadata": {
      "byteLimit": 2048000,
      "rowLimit": 10000
     },
     "inputWidgets": {},
     "nuid": "70e8cb91-4872-4e7c-b634-9eec356c3e90",
     "showTitle": false,
     "tableResultSettingsMap": {},
     "title": ""
    }
   },
   "outputs": [
    {
     "output_type": "stream",
     "name": "stdout",
     "output_type": "stream",
     "text": [
      "rmse_tvs: 23.21602322625551\nrmse_gbt: 23.21602322625551\nrmse_tvs and rmse_gbt are the same: True\n\nr2_tvs: 0.07418946635199608\nr2_gbt: 0.07418946635199597\nr2_tvs and r2_gbt are the same: False\nr2_tvs is the highest: True\n"
     ]
    }
   ],
   "source": [
    "\n",
    "print(f\"rmse_tvs: {rmse_tvs}\")\n",
    "print(f\"rmse_gbt: {rmse_gbt}\")\n",
    "\n",
    "if(rmse_tvs == rmse_gbt):\n",
    "    print(f\"rmse_tvs and rmse_gbt are the same: {rmse_tvs == rmse_gbt}\")\n",
    "else:\n",
    "    print(f\"rmse_tvs and rmse_gbt are the same: {rmse_tvs == rmse_gbt}\")\n",
    "    if(min(rmse_tvs, rmse_gbt) == rmse_tvs):\n",
    "        print(f\"rmse_tvs is the closest to 0: {min(rmse_tvs, rmse_gbt) == rmse_tvs}\")\n",
    "    else:\n",
    "        print(f\"rmse_gbt is the closest to 0: {min(rmse_tvs, rmse_gbt) == rmse_gbt}\")\n",
    "\n",
    "print()\n",
    "\n",
    "print(f\"r2_tvs: {r2_tvs}\")\n",
    "print(f\"r2_gbt: {r2_gbt}\")\n",
    "\n",
    "if(r2_tvs == r2_gbt):\n",
    "    print(f\"r2_tvs and r2_gbt are the same: {r2_tvs == r2_gbt}\")\n",
    "else:\n",
    "    print(f\"r2_tvs and r2_gbt are the same: {r2_tvs == r2_gbt}\")\n",
    "    if(max(r2_tvs, r2_gbt) == r2_tvs):\n",
    "        print(f\"r2_tvs is the highest: {max(r2_tvs, r2_gbt) == r2_tvs}\")\n",
    "    else:\n",
    "        print(f\"r2_gbt is the highest: {max(r2_tvs, r2_gbt) == r2_gbt}\")\n"
   ]
  },
  {
   "cell_type": "markdown",
   "metadata": {
    "application/vnd.databricks.v1+cell": {
     "cellMetadata": {},
     "inputWidgets": {},
     "nuid": "aec59eb1-813c-45fd-b3d5-5e212f5c1ed6",
     "showTitle": false,
     "tableResultSettingsMap": {},
     "title": ""
    }
   },
   "source": [
    "Slight improvement occurred between performing Hyperparameter Tuning and the Gradient-Boosted Tree model results. Both have the same RMSE of 24.76347, but for R squared the Hyperparameter Tuning did slightly better."
   ]
  },
  {
   "cell_type": "code",
   "execution_count": 0,
   "metadata": {
    "application/vnd.databricks.v1+cell": {
     "cellMetadata": {
      "byteLimit": 2048000,
      "rowLimit": 10000
     },
     "inputWidgets": {},
     "nuid": "d5f311ca-aa93-49a2-82b2-28a135e23884",
     "showTitle": false,
     "tableResultSettingsMap": {},
     "title": ""
    },
    "colab": {
     "base_uri": "https://localhost:8080/"
    },
    "id": "kykhjlOroq1l",
    "outputId": "beda1e6f-efbf-4d8f-f8e4-7f1c146238d0"
   },
   "outputs": [
    {
     "output_type": "stream",
     "name": "stdout",
     "output_type": "stream",
     "text": [
      "+----+------------+----------+-----------+-----+\n|fare|trip_seconds|trip_miles|   features|label|\n+----+------------+----------+-----------+-----+\n| 4.5|         180|       0.4|[180.0,0.4]|  4.5|\n+----+------------+----------+-----------+-----+\nonly showing top 1 row\n\n"
     ]
    }
   ],
   "source": [
    "df.show(1)"
   ]
  },
  {
   "cell_type": "markdown",
   "metadata": {
    "application/vnd.databricks.v1+cell": {
     "cellMetadata": {
      "byteLimit": 2048000,
      "rowLimit": 10000
     },
     "inputWidgets": {},
     "nuid": "68043fe8-87b4-4778-8648-67ec4e995dc7",
     "showTitle": false,
     "tableResultSettingsMap": {},
     "title": ""
    },
    "id": "ukYFdCVvWG-U"
   },
   "source": [
    "# 10. Perform k-means clustering using features trip_seconds, trip_miles, and fare. Please recommend the optimal number of clusters and justify your answer.\n",
    "\n",
    "There is no label in k-means, only features for clustering. Create a new vector assembler with the trip_seconds, trip_miles, and fare columns and name a new vector assembler kmeans_assembler."
   ]
  },
  {
   "cell_type": "code",
   "execution_count": 0,
   "metadata": {
    "application/vnd.databricks.v1+cell": {
     "cellMetadata": {
      "byteLimit": 2048000,
      "rowLimit": 10000
     },
     "inputWidgets": {},
     "nuid": "4271c6a0-1fc7-4335-8568-e6a4c2f34e53",
     "showTitle": false,
     "tableResultSettingsMap": {},
     "title": ""
    },
    "id": "hrDtv4AmgbNb"
   },
   "outputs": [],
   "source": [
    "# df.show(1)"
   ]
  },
  {
   "cell_type": "markdown",
   "metadata": {
    "application/vnd.databricks.v1+cell": {
     "cellMetadata": {
      "byteLimit": 2048000,
      "rowLimit": 10000
     },
     "inputWidgets": {},
     "nuid": "9a9f5903-e2cb-4d87-a599-287e236d36af",
     "showTitle": false,
     "tableResultSettingsMap": {},
     "title": ""
    },
    "id": "Iaj3f1eGmbnH"
   },
   "source": [
    "### Creating a variable that selects only the features trip_seconds, trip_miles, and fare from the df\n",
    "'df_features_clustering3' only has 'trip_seconds', 'trip_miles', and 'fare' columns"
   ]
  },
  {
   "cell_type": "code",
   "execution_count": 0,
   "metadata": {
    "application/vnd.databricks.v1+cell": {
     "cellMetadata": {
      "byteLimit": 2048000,
      "rowLimit": 10000
     },
     "inputWidgets": {},
     "nuid": "71f4366b-a100-47cc-b288-c987e9800e13",
     "showTitle": false,
     "tableResultSettingsMap": {},
     "title": ""
    },
    "colab": {
     "base_uri": "https://localhost:8080/"
    },
    "id": "ug52bH0Ska5d",
    "outputId": "6ebbe68e-429b-4bff-db1e-970a11c2636a"
   },
   "outputs": [
    {
     "output_type": "stream",
     "name": "stdout",
     "output_type": "stream",
     "text": [
      "+------------+----------+-----+\n|trip_seconds|trip_miles| fare|\n+------------+----------+-----+\n|         180|       0.4|  4.5|\n|         240|       0.7| 4.45|\n|           0|       0.0|42.75|\n|         480|       1.1|  7.0|\n|         480|      2.71|10.25|\n+------------+----------+-----+\nonly showing top 5 rows\n\n"
     ]
    }
   ],
   "source": [
    "# k-means clustering using features trip_seconds, trip_miles, and fare.\n",
    "\n",
    "# selecting trip_seconds, trip_miles, and fare columns for the variable\n",
    "df_features_clustering3 = df.select('trip_seconds', 'trip_miles', 'fare')\n",
    "\n",
    "df_features_clustering3.show(5)\n"
   ]
  },
  {
   "cell_type": "markdown",
   "metadata": {
    "application/vnd.databricks.v1+cell": {
     "cellMetadata": {
      "byteLimit": 2048000,
      "rowLimit": 10000
     },
     "inputWidgets": {},
     "nuid": "73ba1ced-123a-4786-9068-34adbd16154b",
     "showTitle": false,
     "tableResultSettingsMap": {},
     "title": ""
    },
    "id": "2EkJvNJlzPoU"
   },
   "source": [
    "### Create a new vector assembler with the trip_seconds, trip_miles, and fare columns and name a new vector assembler kmeans_assembler\n"
   ]
  },
  {
   "cell_type": "code",
   "execution_count": 0,
   "metadata": {
    "application/vnd.databricks.v1+cell": {
     "cellMetadata": {
      "byteLimit": 2048000,
      "rowLimit": 10000
     },
     "inputWidgets": {},
     "nuid": "5856e52c-7c08-4891-b4ef-5db76eaec166",
     "showTitle": false,
     "tableResultSettingsMap": {},
     "title": ""
    },
    "colab": {
     "base_uri": "https://localhost:8080/"
    },
    "id": "3anRtIpZX0p-",
    "outputId": "98c86755-3fb1-4d8d-ff67-6d0bd774ca0e"
   },
   "outputs": [
    {
     "output_type": "stream",
     "name": "stdout",
     "output_type": "stream",
     "text": [
      "kmeans assembled columns: 'trip_seconds', 'trip_miles', 'fare' columns into a 'kmeans_features' column\n+------------------+\n|kmeans_features   |\n+------------------+\n|[180.0,0.4,4.5]   |\n|[240.0,0.7,4.45]  |\n|[0.0,0.0,42.75]   |\n|[480.0,1.1,7.0]   |\n|[480.0,2.71,10.25]|\n|[1080.0,6.2,17.75]|\n|[60.0,0.2,3.75]   |\n|[180.0,0.0,5.0]   |\n|[0.0,0.0,3.25]    |\n|[480.0,1.3,7.0]   |\n|[420.0,0.0,7.25]  |\n|[1380.0,5.1,17.25]|\n|[420.0,0.0,6.25]  |\n|[480.0,0.1,9.0]   |\n|[720.0,0.0,10.75] |\n|[720.0,2.2,10.0]  |\n|[300.0,0.8,5.5]   |\n|[420.0,0.0,6.75]  |\n|[660.0,4.1,11.85] |\n|[720.0,2.5,10.25] |\n+------------------+\nonly showing top 20 rows\n\n"
     ]
    }
   ],
   "source": [
    "#Perform k-means clustering using features trip_seconds, trip_miles, and fare.\n",
    "\n",
    "# library for K Means clustering\n",
    "from pyspark.ml.clustering import KMeans\n",
    "\n",
    "# evaluate the model indirectly\n",
    "from pyspark.ml.evaluation import ClusteringEvaluator\n",
    "\n",
    "# plot the kmeans\n",
    "import matplotlib.pyplot as plt\n",
    "\n",
    "\n",
    "# create a new vector assembler with the trip_seconds, trip_miles, and fare columns and name a new vector assembler kmeans_assembler\n",
    "\n",
    "kmeans_assembler = VectorAssembler(\n",
    "    inputCols=['trip_seconds', 'trip_miles', 'fare'],\n",
    "    outputCol='kmeans_features')\n",
    "\n",
    "# Note: df_features_clustering3 only has trip_seconds, trip_miles, and fare columns\n",
    "\n",
    "kmeans_assembler_output = kmeans_assembler.transform(df_features_clustering3) # transforming assembler on df_features_clustering3 don't need split\n",
    "\n",
    "kmeans_df = kmeans_assembler_output # assigning kmeans_assembler_output to kmeans_df\n",
    "\n",
    "print(\"kmeans assembled columns: 'trip_seconds', 'trip_miles', 'fare' columns into a 'kmeans_features' column\")\n",
    "\n",
    "kmeans_df.select('kmeans_features').show(truncate=False)"
   ]
  },
  {
   "cell_type": "code",
   "execution_count": 0,
   "metadata": {
    "application/vnd.databricks.v1+cell": {
     "cellMetadata": {
      "byteLimit": 2048000,
      "rowLimit": 10000
     },
     "inputWidgets": {},
     "nuid": "13808d87-17c5-4a81-9ef2-3f45c500c5a4",
     "showTitle": false,
     "tableResultSettingsMap": {},
     "title": ""
    },
    "colab": {
     "base_uri": "https://localhost:8080/"
    },
    "id": "hjpoSjMPofII",
    "outputId": "028b3b0e-138e-4fe2-e3a1-ff76d23865f5"
   },
   "outputs": [
    {
     "output_type": "stream",
     "name": "stdout",
     "output_type": "stream",
     "text": [
      "+------------+----------+-----+------------------+\n|trip_seconds|trip_miles| fare|   kmeans_features|\n+------------+----------+-----+------------------+\n|         180|       0.4|  4.5|   [180.0,0.4,4.5]|\n|         240|       0.7| 4.45|  [240.0,0.7,4.45]|\n|           0|       0.0|42.75|   [0.0,0.0,42.75]|\n|         480|       1.1|  7.0|   [480.0,1.1,7.0]|\n|         480|      2.71|10.25|[480.0,2.71,10.25]|\n+------------+----------+-----+------------------+\nonly showing top 5 rows\n\n"
     ]
    }
   ],
   "source": [
    "kmeans_df.show(5)"
   ]
  },
  {
   "cell_type": "markdown",
   "metadata": {
    "application/vnd.databricks.v1+cell": {
     "cellMetadata": {
      "byteLimit": 2048000,
      "rowLimit": 10000
     },
     "inputWidgets": {},
     "nuid": "b53a9ec1-286f-4083-9388-c6b203d3c1c5",
     "showTitle": false,
     "tableResultSettingsMap": {},
     "title": ""
    },
    "id": "diIhTw6x0d4e"
   },
   "source": [
    "### Finding the optimal number of clusters"
   ]
  },
  {
   "cell_type": "code",
   "execution_count": 0,
   "metadata": {
    "application/vnd.databricks.v1+cell": {
     "cellMetadata": {
      "byteLimit": 2048000,
      "rowLimit": 10000
     },
     "inputWidgets": {},
     "nuid": "065f0b73-7b35-48b0-8735-6912293adb84",
     "showTitle": false,
     "tableResultSettingsMap": {},
     "title": ""
    },
    "id": "ujo93DcUuUo0"
   },
   "outputs": [],
   "source": [
    "#Please recommend the optimal number of clusters and justify your answer.\n",
    "\n",
    "# find the optimal number of clusters\n",
    "\n",
    "Silhvalues = []\n",
    "\n",
    "kmeans_range = range(2, 11)\n",
    "\n",
    "for k in kmeans_range:\n",
    "\n",
    "    kmeans = KMeans(featuresCol=\"kmeans_features\").setK(k).setSeed(1) # specifying that the featrues column is named \"kmeans_features\"\n",
    "\n",
    "    kmeans_model = kmeans.fit(kmeans_df) # use kmeans_df\n",
    "\n",
    "    # Make predictions\n",
    "    kmeans_predictions = kmeans_model.transform(kmeans_df)\n",
    "\n",
    "    # Evaluate clustering by computing Silhouette score (internally evaluate the model)\n",
    "    evaluator = ClusteringEvaluator(featuresCol=\"kmeans_features\") # specifying the feature column is named \"kmeans_features\"\n",
    "\n",
    "    silhouette = evaluator.evaluate(kmeans_predictions)\n",
    "    Silhvalues.append(silhouette)"
   ]
  },
  {
   "cell_type": "code",
   "execution_count": 0,
   "metadata": {
    "application/vnd.databricks.v1+cell": {
     "cellMetadata": {
      "byteLimit": 2048000,
      "rowLimit": 10000
     },
     "inputWidgets": {},
     "nuid": "8b5d22d6-0b5c-4a86-9c33-6473df1493a3",
     "showTitle": false,
     "tableResultSettingsMap": {},
     "title": ""
    },
    "colab": {
     "base_uri": "https://localhost:8080/",
     "height": 472
    },
    "id": "pi2hx9azub4C",
    "outputId": "568a0da1-48ac-4dd9-9c36-73cb71b18d01"
   },
   "outputs": [
    {
     "output_type": "display_data",
     "data": {
      "image/png": "[encoded data removed]",
      "text/plain": [
       "<Figure size 640x480 with 1 Axes>"
      ]
     },
     "metadata": {},
     "output_type": "display_data"
    }
   ],
   "source": [
    "plt.plot(kmeans_range, Silhvalues, marker='o')\n",
    "plt.title('Finding the Optimal Number of Clusters')\n",
    "plt.xlabel('Number of Clusters (k)')\n",
    "plt.ylabel('Silhvalues')\n",
    "plt.grid()\n",
    "plt.show()\n",
    "# Note: All 20 million records have been used"
   ]
  },
  {
   "cell_type": "markdown",
   "metadata": {
    "application/vnd.databricks.v1+cell": {
     "cellMetadata": {
      "byteLimit": 2048000,
      "rowLimit": 10000
     },
     "inputWidgets": {},
     "nuid": "63d23d4a-4a84-4399-ac1a-c9a91c0128ef",
     "showTitle": false,
     "tableResultSettingsMap": {},
     "title": ""
    },
    "id": "vi_AhOA3Alfj"
   },
   "source": [
    "### **Please recommend the optimal number of clusters and justify your answer.**\n",
    "\n",
    "The optimal number of clusters based on the plot is **4**.\n",
    "\n",
    "The plot shows the silhouette values for different cluster numbers. The highest silhouette value is 2 (1.00), but it is NOT the optimal number of clusters because it may oversimplify the data. Then, with the elbow method, the cluster is 5 (about 0.75), but it does not have a good/high silhouette value compared to cluster 4.\n",
    "\n",
    "The optimal number of clusters is 4 (about 0.85) because it has the second-highest silhouette value, well-balanced complexity, and cluster quality. Cluster 4 avoids oversimplification.\n",
    "\n",
    "\n",
    "Note: All 20 million records have been used"
   ]
  },
  {
   "cell_type": "markdown",
   "metadata": {
    "application/vnd.databricks.v1+cell": {
     "cellMetadata": {
      "byteLimit": 2048000,
      "rowLimit": 10000
     },
     "inputWidgets": {},
     "nuid": "0e68cd5f-de4c-4b54-8afb-bf51900600f8",
     "showTitle": false,
     "tableResultSettingsMap": {},
     "title": ""
    },
    "id": "nY-vaPov0VTt"
   },
   "source": [
    "### k-means clustering with the recommended optimal number of clusters\n",
    "The optimal number of clusters is 4."
   ]
  },
  {
   "cell_type": "code",
   "execution_count": 0,
   "metadata": {
    "application/vnd.databricks.v1+cell": {
     "cellMetadata": {
      "byteLimit": 2048000,
      "rowLimit": 10000
     },
     "inputWidgets": {},
     "nuid": "2d2a48f8-4ee0-49ee-8744-1b10dcbab798",
     "showTitle": false,
     "tableResultSettingsMap": {},
     "title": ""
    },
    "colab": {
     "base_uri": "https://localhost:8080/"
    },
    "id": "4x8MKkGcSnme",
    "outputId": "f3bb8d4c-36dd-482a-86ff-4852e3a7d547"
   },
   "outputs": [
    {
     "output_type": "stream",
     "name": "stdout",
     "output_type": "stream",
     "text": [
      "+------------------+----------+\n|   kmeans_features|prediction|\n+------------------+----------+\n|   [180.0,0.4,4.5]|         0|\n|  [240.0,0.7,4.45]|         0|\n|   [0.0,0.0,42.75]|         0|\n|   [480.0,1.1,7.0]|         0|\n|[480.0,2.71,10.25]|         0|\n+------------------+----------+\nonly showing top 5 rows\n\nOptimal Silhouette with Squared Euclidean Distance = 0.8521441233380682\n\nCluster Centers: \n[457.26099195   1.14800085   8.96469956]\n[1715.25964959    1.97227635   24.6265969 ]\n[6.59104629e+04 7.40900723e-01 3.05999080e+01]\n[2.74795635e+04 1.06975956e+00 5.04249137e+01]\n"
     ]
    }
   ],
   "source": [
    "opt_k = 4 # the optimal number of clusters (all data used)\n",
    "\n",
    "optimal_kmeans = KMeans(featuresCol=\"kmeans_features\").setK(opt_k).setSeed(1) # specifying that the featrues column is named \"kmeans_features\"\n",
    "\n",
    "\n",
    "optimal_kmeans_model = optimal_kmeans.fit(kmeans_df) # use kmeans_df\n",
    "\n",
    "# Make predictions\n",
    "opt_kmeans_predictions = optimal_kmeans_model.transform(kmeans_df) # use kmeans_df\n",
    "\n",
    "opt_kmeans_predictions.select(\"kmeans_features\", \"prediction\").show(5)\n",
    "\n",
    "\n",
    "# evaluating the optimal model\n",
    "\n",
    "# Evaluate clustering by computing Silhouette score (internally evaluate the model)\n",
    "opt_kmeans_evaluator = ClusteringEvaluator(featuresCol=\"kmeans_features\") # specifying the feature column is named \"kmeans_features\"\n",
    "\n",
    "opt_silhouette = opt_kmeans_evaluator.evaluate(opt_kmeans_predictions)\n",
    "\n",
    "print(\"Optimal Silhouette with Squared Euclidean Distance = \" + str(opt_silhouette))\n",
    "print()\n",
    "\n",
    "#--------------------------------------------------------------------------------------\n",
    "\n",
    "\n",
    "# showing the results of the cluster_centers.\n",
    "cluster_centers = optimal_kmeans_model.clusterCenters()\n",
    "\n",
    "print(\"Cluster Centers: \")\n",
    "for center in cluster_centers:\n",
    "    print(center)"
   ]
  },
  {
   "cell_type": "markdown",
   "metadata": {
    "application/vnd.databricks.v1+cell": {
     "cellMetadata": {
      "byteLimit": 2048000,
      "rowLimit": 10000
     },
     "inputWidgets": {},
     "nuid": "a5a244c1-cfc6-4397-82b2-05cc4ca8e563",
     "showTitle": false,
     "tableResultSettingsMap": {},
     "title": ""
    },
    "id": "wiF6BUEuWKue"
   },
   "source": [
    "Please develop your models. You may get help from your classmates. When you debug the models, you may use a smaller dataset, for example, 5,000 rows. After you fix all bugs, then run the whole dataset, for example at 9pm, then you will get some results in the morning,\n",
    "\n",
    "Since it is a very large dataset, it takes about 12 hours on my laptop to run all the models. You need to summarize your model results in a PPT file and present your own research finding on Monday, December 9 or Wednesday, December 11,  2024 in the classroom.\n",
    "\n",
    "You must upload the following three files  into Canvas after your presentation:\n",
    "\n",
    "+ Jupyter Notebook\n",
    "+ HTML file\n",
    "+ PPT File\n",
    "\n",
    "\n",
    "Each student has about 15 minutes."
   ]
  }
 ],
 "metadata": {
  "application/vnd.databricks.v1+notebook": {
   "computePreferences": null,
   "dashboards": [],
   "environmentMetadata": null,
   "language": "python",
   "notebookMetadata": {
    "pythonIndentUnit": 4
   },
   "notebookName": "Running_Databricks_for_Final_Project_DSCI_617_Ryan_Johnson_12_17_2024",
   "widgets": {}
  },
  "colab": {
   "provenance": []
  },
  "kernelspec": {
   "display_name": "Python 3 (ipykernel)",
   "language": "python",
   "name": "python3"
  },
  "language_info": {
   "name": "python"
  }
 },
 "nbformat": 4,
 "nbformat_minor": 0
}