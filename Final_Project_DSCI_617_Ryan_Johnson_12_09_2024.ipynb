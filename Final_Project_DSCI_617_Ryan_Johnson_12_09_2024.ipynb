{
 "cells": [
  {
   "cell_type": "markdown",
   "metadata": {
    "id": "hrQqC1swUU9B"
   },
   "source": [
    "# Final Project\n",
    "### DSCI 617\n",
    "**Ryan Johnson**"
   ]
  },
  {
   "cell_type": "markdown",
   "metadata": {
    "id": "oOGZ61kpUdtj"
   },
   "source": [
    "### Overview\n",
    "\n",
    "You have just been hired as a Sr. Data Scientist at the City of Chicago. Your manager, the mayor, Mr. Emanuel, asked you to download the dataset from https://www.kaggle.com/chicago/chicago-taxi-rides-2016. It is a very large dataset containing about 20 million records. This dataset includes taxi trips for 2016, which were reported to the City of Chicago in its role as a regulatory agency. To protect privacy but allow for aggregate analyses, the Taxi ID is consistent for any given taxi medallion number but does not show the number. Census Tracts are suppressed in some cases, and times are rounded to the nearest 15 minutes. Due to the data reporting process, not all trips are reported, but the City believes that most are. See http://digital.cityofchicago.org/index.php/chicago-taxi-data-released (Links to an external site.)Links to an external site for more information about this dataset and how it was created."
   ]
  },
  {
   "cell_type": "markdown",
   "metadata": {
    "id": "ehtSoG4MU9bY"
   },
   "source": [
    "### Set up a PySpark environment"
   ]
  },
  {
   "cell_type": "code",
   "execution_count": null,
   "metadata": {
    "colab": {
     "base_uri": "https://localhost:8080/"
    },
    "id": "sAtSYH--TdTq",
    "outputId": "c7cef3b9-5e82-4719-c82c-13e453f08b53"
   },
   "outputs": [
    {
     "name": "stdout",
     "output_type": "stream",
     "text": [
      "Collecting pyspark==3.1.1\n",
      "  Downloading pyspark-3.1.1.tar.gz (212.3 MB)\n",
      "\u001b[2K     \u001b[90m━━━━━━━━━━━━━━━━━━━━━━━━━━━━━━━━━━━━━━━━\u001b[0m \u001b[32m212.3/212.3 MB\u001b[0m \u001b[31m5.3 MB/s\u001b[0m eta \u001b[36m0:00:00\u001b[0m\n",
      "\u001b[?25h  Preparing metadata (setup.py) ... \u001b[?25l\u001b[?25hdone\n",
      "Collecting py4j==0.10.9 (from pyspark==3.1.1)\n",
      "  Downloading py4j-0.10.9-py2.py3-none-any.whl.metadata (1.3 kB)\n",
      "Downloading py4j-0.10.9-py2.py3-none-any.whl (198 kB)\n",
      "\u001b[2K   \u001b[90m━━━━━━━━━━━━━━━━━━━━━━━━━━━━━━━━━━━━━━━━\u001b[0m \u001b[32m198.6/198.6 kB\u001b[0m \u001b[31m11.6 MB/s\u001b[0m eta \u001b[36m0:00:00\u001b[0m\n",
      "\u001b[?25hBuilding wheels for collected packages: pyspark\n",
      "  Building wheel for pyspark (setup.py) ... \u001b[?25l\u001b[?25hdone\n",
      "  Created wheel for pyspark: filename=pyspark-3.1.1-py2.py3-none-any.whl size=212767581 sha256=d738abd7b60f44c4fd87c5997684c86b2cac7292002dc21462adff1aae92fa16\n",
      "  Stored in directory: /root/.cache/pip/wheels/a0/3f/72/8efd988f9ae041f051c75e6834cd92dd6d13a726e206e8b6f3\n",
      "Successfully built pyspark\n",
      "Installing collected packages: py4j, pyspark\n",
      "  Attempting uninstall: py4j\n",
      "    Found existing installation: py4j 0.10.9.7\n",
      "    Uninstalling py4j-0.10.9.7:\n",
      "      Successfully uninstalled py4j-0.10.9.7\n",
      "  Attempting uninstall: pyspark\n",
      "    Found existing installation: pyspark 3.5.3\n",
      "    Uninstalling pyspark-3.5.3:\n",
      "      Successfully uninstalled pyspark-3.5.3\n",
      "Successfully installed py4j-0.10.9 pyspark-3.1.1\n"
     ]
    }
   ],
   "source": [
    "!pip install -q findspark\n",
    "!pip install pyspark==3.1.1"
   ]
  },
  {
   "cell_type": "markdown",
   "metadata": {
    "id": "PIR4So0mXII9"
   },
   "source": [
    "### Generate a Spark session object with the appName of \"Final Project\""
   ]
  },
  {
   "cell_type": "code",
   "execution_count": null,
   "metadata": {
    "id": "95VDCslDXPed"
   },
   "outputs": [],
   "source": [
    "import sys\n",
    "from random import random\n",
    "from operator import add\n",
    "import findspark #findspark allows pyspark to be used as a regular library.\n",
    "from pyspark.sql import SparkSession # starting point for PySpark with the DataFrame API and the Dataset\n",
    "\n",
    "\n",
    "findspark.init() # Initializes the findspark\n",
    "\n",
    "# create a new Spark session with the application name \"Final Project\"\n",
    "spark = SparkSession\\\n",
    "    .builder\\\n",
    "    .appName(\"Final Project\")\\\n",
    "    .getOrCreate()"
   ]
  },
  {
   "cell_type": "markdown",
   "metadata": {
    "id": "Kt8CjT6HIR0g"
   },
   "source": [
    "## Mounting Google Drive so I don't have to keep on uploading the CSV file"
   ]
  },
  {
   "cell_type": "code",
   "execution_count": null,
   "metadata": {
    "colab": {
     "base_uri": "https://localhost:8080/"
    },
    "id": "jIOfpwbXaZjC",
    "outputId": "5bde0928-c40e-49b1-b9f6-fd03ae6b0e9f"
   },
   "outputs": [
    {
     "name": "stdout",
     "output_type": "stream",
     "text": [
      "Mounted at /content/drive\n"
     ]
    }
   ],
   "source": [
    "# Mounting Google Drive so I don't have to keep on uploading the CSV file\n",
    "from google.colab import drive\n",
    "drive.mount('/content/drive')"
   ]
  },
  {
   "cell_type": "markdown",
   "metadata": {
    "id": "xjaAYC-RU-G1"
   },
   "source": [
    "# 1. Read 12 monthly datasets, chicago_taxi_trips_2016_01, chicago_taxi_trips_2016_02, …, chicago_taxi_trips_2016_12 into a Spark Data frame(Hint: you can use df = spark.read.csv('C:\\\\Users\\\\yliu3\\\\Documents\\\\Data Banks\\\\Regression\\\\chicago-taxi-rides-2016\\\\*.csv', header = True, inferSchema = True) to read several csv files and combine it into a single data frame)"
   ]
  },
  {
   "cell_type": "markdown",
   "metadata": {
    "id": "Fby7ufJIq2xa"
   },
   "source": [
    "### Uploading the Zipped Chicago Taxi Rides 2016 file"
   ]
  },
  {
   "cell_type": "code",
   "execution_count": null,
   "metadata": {
    "colab": {
     "base_uri": "https://localhost:8080/"
    },
    "id": "ij8E2HgwuB0H",
    "outputId": "03d98650-deff-474b-f877-140108de4278"
   },
   "outputs": [
    {
     "name": "stdout",
     "output_type": "stream",
     "text": [
      "Archive:  /content/drive/MyDrive/DSCI_617_Big_Data_Analytics/Final_Project_datasets/Chicago Taxi Rides 2016 Zipped.zip\n",
      "  inflating: chicago_taxi_trips_2016_01.csv  \n",
      "  inflating: chicago_taxi_trips_2016_02.csv  \n",
      "  inflating: chicago_taxi_trips_2016_03.csv  \n",
      "  inflating: chicago_taxi_trips_2016_04.csv  \n",
      "  inflating: chicago_taxi_trips_2016_05.csv  \n",
      "  inflating: chicago_taxi_trips_2016_06.csv  \n",
      "  inflating: chicago_taxi_trips_2016_07.csv  \n",
      "  inflating: chicago_taxi_trips_2016_08.csv  \n",
      "  inflating: chicago_taxi_trips_2016_09.csv  \n",
      "  inflating: chicago_taxi_trips_2016_10.csv  \n",
      "  inflating: chicago_taxi_trips_2016_11.csv  \n",
      "  inflating: chicago_taxi_trips_2016_12.csv  \n",
      "  inflating: column_remapping.json   \n",
      "  inflating: data_dictionary.csv     \n"
     ]
    }
   ],
   "source": [
    "#!unzip file_location\n",
    "!unzip \"/content/drive/MyDrive/DSCI_617_Big_Data_Analytics/Final_Project_datasets/Chicago Taxi Rides 2016 Zipped.zip\""
   ]
  },
  {
   "cell_type": "markdown",
   "metadata": {
    "id": "kzmAxXKU25yw"
   },
   "source": [
    "### Reading all CSV files into memory"
   ]
  },
  {
   "cell_type": "code",
   "execution_count": null,
   "metadata": {
    "colab": {
     "base_uri": "https://localhost:8080/"
    },
    "id": "Hr5XDkOi26QV",
    "outputId": "8f935f3e-2aa8-45c6-91e9-90e9ec283ada"
   },
   "outputs": [
    {
     "name": "stdout",
     "output_type": "stream",
     "text": [
      "The shape of df is: rows: 19866157 and columns: 20\n",
      "+-------+--------------------+------------------+------------+----------+-------------------+--------------------+---------------------+----------------------+-----+----+-----+------+----------+------------+-------+---------------+----------------+----------------+-----------------+\n",
      "|taxi_id|trip_start_timestamp|trip_end_timestamp|trip_seconds|trip_miles|pickup_census_tract|dropoff_census_tract|pickup_community_area|dropoff_community_area| fare|tips|tolls|extras|trip_total|payment_type|company|pickup_latitude|pickup_longitude|dropoff_latitude|dropoff_longitude|\n",
      "+-------+--------------------+------------------+------------+----------+-------------------+--------------------+---------------------+----------------------+-----+----+-----+------+----------+------------+-------+---------------+----------------+----------------+-----------------+\n",
      "|     85|  2016-1-13 06:15:00|2016-1-13 06:15:00|         180|       0.4|               null|                null|                   24|                    24|  4.5| 0.0|  0.0|   0.0|       4.5|        Cash|    107|            199|             510|             199|              510|\n",
      "|   2776|  2016-1-22 09:30:00|2016-1-22 09:45:00|         240|       0.7|               null|                null|                 null|                  null| 4.45|4.45|  0.0|   0.0|       8.9| Credit Card|   null|           null|            null|            null|             null|\n",
      "|   3168|  2016-1-31 21:30:00|2016-1-31 21:30:00|           0|       0.0|               null|                null|                 null|                  null|42.75| 5.0|  0.0|   0.0|     47.75| Credit Card|    119|           null|            null|            null|             null|\n",
      "|   4237|  2016-1-23 17:30:00|2016-1-23 17:30:00|         480|       1.1|               null|                null|                    6|                     6|  7.0| 0.0|  0.0|   0.0|       7.0|        Cash|   null|            686|             500|             686|              500|\n",
      "|   5710|  2016-1-14 05:45:00|2016-1-14 06:00:00|         480|      2.71|               null|                null|                   32|                  null|10.25| 0.0|  0.0|   0.0|     10.25|        Cash|   null|            385|             478|            null|             null|\n",
      "+-------+--------------------+------------------+------------+----------+-------------------+--------------------+---------------------+----------------------+-----+----+-----+------+----------+------------+-------+---------------+----------------+----------------+-----------------+\n",
      "only showing top 5 rows\n",
      "\n"
     ]
    }
   ],
   "source": [
    "all_paths = [\"/content/chicago_taxi_trips_2016_01.csv\",\n",
    "\"/content/chicago_taxi_trips_2016_02.csv\",\n",
    "\"/content/chicago_taxi_trips_2016_03.csv\",\n",
    "\"/content/chicago_taxi_trips_2016_04.csv\",\n",
    "\"/content/chicago_taxi_trips_2016_05.csv\",\n",
    "\"/content/chicago_taxi_trips_2016_06.csv\",\n",
    "\"/content/chicago_taxi_trips_2016_07.csv\",\n",
    "\"/content/chicago_taxi_trips_2016_08.csv\",\n",
    "\"/content/chicago_taxi_trips_2016_09.csv\",\n",
    "\"/content/chicago_taxi_trips_2016_10.csv\",\n",
    "\"/content/chicago_taxi_trips_2016_11.csv\",\n",
    "\"/content/chicago_taxi_trips_2016_12.csv\"]\n",
    "\n",
    "\n",
    "#reading the CSV file and adding header and inferSchema = True\n",
    "df = spark.read.csv(all_paths, header=True, inferSchema = True)\n",
    "\n",
    "print(f\"The shape of df is: rows: {df.count()} and columns: {len(df.columns)}\")\n",
    "\n",
    "# showing the first 5 rows\n",
    "df.show(5)"
   ]
  },
  {
   "cell_type": "code",
   "execution_count": null,
   "metadata": {
    "colab": {
     "base_uri": "https://localhost:8080/"
    },
    "id": "prs0WtlnovEJ",
    "outputId": "5754b1d7-8790-46ef-ee9c-2d7b9127bd9d"
   },
   "outputs": [
    {
     "name": "stdout",
     "output_type": "stream",
     "text": [
      "root\n",
      " |-- taxi_id: integer (nullable = true)\n",
      " |-- trip_start_timestamp: string (nullable = true)\n",
      " |-- trip_end_timestamp: string (nullable = true)\n",
      " |-- trip_seconds: integer (nullable = true)\n",
      " |-- trip_miles: double (nullable = true)\n",
      " |-- pickup_census_tract: string (nullable = true)\n",
      " |-- dropoff_census_tract: integer (nullable = true)\n",
      " |-- pickup_community_area: integer (nullable = true)\n",
      " |-- dropoff_community_area: integer (nullable = true)\n",
      " |-- fare: double (nullable = true)\n",
      " |-- tips: double (nullable = true)\n",
      " |-- tolls: double (nullable = true)\n",
      " |-- extras: double (nullable = true)\n",
      " |-- trip_total: double (nullable = true)\n",
      " |-- payment_type: string (nullable = true)\n",
      " |-- company: integer (nullable = true)\n",
      " |-- pickup_latitude: integer (nullable = true)\n",
      " |-- pickup_longitude: integer (nullable = true)\n",
      " |-- dropoff_latitude: integer (nullable = true)\n",
      " |-- dropoff_longitude: integer (nullable = true)\n",
      "\n"
     ]
    }
   ],
   "source": [
    "df.printSchema()"
   ]
  },
  {
   "cell_type": "code",
   "execution_count": null,
   "metadata": {
    "colab": {
     "base_uri": "https://localhost:8080/"
    },
    "id": "zg1U-W0U95yg",
    "outputId": "24989e6c-6038-4f35-b7a6-bc8663c789b9"
   },
   "outputs": [
    {
     "name": "stdout",
     "output_type": "stream",
     "text": [
      "+-------+--------------------+------------------+------------+----------+-------------------+--------------------+---------------------+----------------------+----+----+-----+------+----------+------------+-------+---------------+----------------+----------------+-----------------+\n",
      "|taxi_id|trip_start_timestamp|trip_end_timestamp|trip_seconds|trip_miles|pickup_census_tract|dropoff_census_tract|pickup_community_area|dropoff_community_area|fare|tips|tolls|extras|trip_total|payment_type|company|pickup_latitude|pickup_longitude|dropoff_latitude|dropoff_longitude|\n",
      "+-------+--------------------+------------------+------------+----------+-------------------+--------------------+---------------------+----------------------+----+----+-----+------+----------+------------+-------+---------------+----------------+----------------+-----------------+\n",
      "|     85|  2016-1-13 06:15:00|2016-1-13 06:15:00|         180|       0.4|               null|                null|                   24|                    24| 4.5| 0.0|  0.0|   0.0|       4.5|        Cash|    107|            199|             510|             199|              510|\n",
      "+-------+--------------------+------------------+------------+----------+-------------------+--------------------+---------------------+----------------------+----+----+-----+------+----------+------------+-------+---------------+----------------+----------------+-----------------+\n",
      "only showing top 1 row\n",
      "\n"
     ]
    }
   ],
   "source": [
    "df.show(1)"
   ]
  },
  {
   "cell_type": "markdown",
   "metadata": {
    "id": "AoC_N88hJAVw"
   },
   "source": [
    "## **Selecting fare, trip_seconds, and trip_miles columns and running all data**"
   ]
  },
  {
   "cell_type": "code",
   "execution_count": null,
   "metadata": {
    "colab": {
     "base_uri": "https://localhost:8080/"
    },
    "id": "HS5zNKwyJB_L",
    "outputId": "b373263c-6346-4267-f403-162141862f3c"
   },
   "outputs": [
    {
     "name": "stdout",
     "output_type": "stream",
     "text": [
      "The shape of df is: rows: 19866157 and columns: 3\n",
      "+-----+------------+----------+\n",
      "| fare|trip_seconds|trip_miles|\n",
      "+-----+------------+----------+\n",
      "|  4.5|         180|       0.4|\n",
      "| 4.45|         240|       0.7|\n",
      "|42.75|           0|       0.0|\n",
      "|  7.0|         480|       1.1|\n",
      "|10.25|         480|      2.71|\n",
      "+-----+------------+----------+\n",
      "only showing top 5 rows\n",
      "\n"
     ]
    }
   ],
   "source": [
    "df = df.select('fare', 'trip_seconds', 'trip_miles')\n",
    "\n",
    "print(f\"The shape of df is: rows: {df.count()} and columns: {len(df.columns)}\")\n",
    "\n",
    "df.show(5)"
   ]
  },
  {
   "cell_type": "markdown",
   "metadata": {
    "id": "NOBf-gHTcZKv"
   },
   "source": [
    "# **For Testing!!**\n",
    "# **Selecting 5,000 rows and fare ,trip_seconds, and trip_miles columns**\n",
    "Understanding how to use limit() for testing: https://www.statology.org/pyspark-select-top-n-rows/"
   ]
  },
  {
   "cell_type": "code",
   "execution_count": null,
   "metadata": {
    "id": "ZNCoKVV7cekV"
   },
   "outputs": [],
   "source": [
    "# df_5000 = df.select('fare', 'trip_seconds', 'trip_miles').limit(5_000) # using limit to select a certain number of rows\n",
    "\n",
    "# print(f\"The shape of df_5000 is: rows: {df_5000.count()} and columns: {len(df_5000.columns)}\")\n",
    "\n",
    "# df= df_5000\n",
    "\n",
    "# df.show(5)"
   ]
  },
  {
   "cell_type": "markdown",
   "metadata": {
    "id": "-68SMdJNVCy0"
   },
   "source": [
    "# 2. There are some missing values in fare ,trip_seconds,  and trip_miles , please drop the NAs in these three columns only using df = df.na.drop(subset= [])\n",
    "\n",
    "Find the total count of NA, Null, None, and NaN from the selected columns fare,trip_seconds, and trip_miles https://sparkbyexamples.com/pyspark/pyspark-find-count-of-null-none-nan-values/#:~:text=In%20PySpark%20DataFrame%20you%20can,count()%20and%20when()."
   ]
  },
  {
   "cell_type": "code",
   "execution_count": null,
   "metadata": {
    "colab": {
     "base_uri": "https://localhost:8080/"
    },
    "id": "rY2-YNvlldtP",
    "outputId": "b114d9d8-5c3a-4c32-d955-68b02d606265"
   },
   "outputs": [
    {
     "name": "stdout",
     "output_type": "stream",
     "text": [
      "root\n",
      " |-- fare: double (nullable = true)\n",
      " |-- trip_seconds: integer (nullable = true)\n",
      " |-- trip_miles: double (nullable = true)\n",
      "\n"
     ]
    }
   ],
   "source": [
    "df.select('fare', 'trip_seconds', 'trip_miles').printSchema()"
   ]
  },
  {
   "cell_type": "code",
   "execution_count": null,
   "metadata": {
    "colab": {
     "base_uri": "https://localhost:8080/"
    },
    "id": "kumu0f4LfwA1",
    "outputId": "d892f5d1-232c-4c7e-863c-14d6868d095d"
   },
   "outputs": [
    {
     "name": "stdout",
     "output_type": "stream",
     "text": [
      "+----+------------+----------+\n",
      "|fare|trip_seconds|trip_miles|\n",
      "+----+------------+----------+\n",
      "| 300|        3215|       232|\n",
      "+----+------------+----------+\n",
      "\n"
     ]
    }
   ],
   "source": [
    "# Find the total count of NA, Null, None, and NaN from the selected columns fare,trip_seconds, and trip_miles\n",
    "from pyspark.sql.functions import col,isnan, when, count\n",
    "\n",
    "df.select([count(when(isnan(c) | col(c).isNull(), c)).alias(c) for c in ['fare', 'trip_seconds', 'trip_miles']]).show()"
   ]
  },
  {
   "cell_type": "code",
   "execution_count": null,
   "metadata": {
    "id": "oj626zMnWYFD"
   },
   "outputs": [],
   "source": [
    "# please drop the NAs in these three columns only using df = df.na.drop(subset= [])\n",
    "df = df.na.drop(subset= ['fare', 'trip_seconds', 'trip_miles'])"
   ]
  },
  {
   "cell_type": "code",
   "execution_count": null,
   "metadata": {
    "colab": {
     "base_uri": "https://localhost:8080/"
    },
    "id": "CkShYLAbeo7r",
    "outputId": "b7bedf48-5909-4732-a5f9-3166d87da493"
   },
   "outputs": [
    {
     "name": "stdout",
     "output_type": "stream",
     "text": [
      "+----+------------+----------+\n",
      "|fare|trip_seconds|trip_miles|\n",
      "+----+------------+----------+\n",
      "|   0|           0|         0|\n",
      "+----+------------+----------+\n",
      "\n"
     ]
    }
   ],
   "source": [
    "# After drop finding total count of NA, Null, None, NaN from the selected columns fare ,trip_seconds, and trip_miles\n",
    "# making sure that they were dopped\n",
    "\n",
    "df.select([count(when(isnan(c) | col(c).isNull(), c)).alias(c) for c in ['fare', 'trip_seconds', 'trip_miles']]).show()"
   ]
  },
  {
   "cell_type": "markdown",
   "metadata": {
    "id": "9ZQZrlw_VEuZ"
   },
   "source": [
    "# 3. Please remove the outliers from the dataset.\n",
    "(For example, one potential method, https://en.wikipedia.org/wiki/Interquartile_range#:~:text=In%20descriptive%20statistics%2C%20the%20interquartile,25th%20percentiles%20of%20the%20data. to an external site. )\n",
    "\n",
    "https://www.machinelearningplus.com/pyspark/pyspark-outlier-detection-and-treatment/"
   ]
  },
  {
   "cell_type": "code",
   "execution_count": null,
   "metadata": {
    "colab": {
     "base_uri": "https://localhost:8080/"
    },
    "id": "6wH1ZrPVK2I-",
    "outputId": "7a040c8c-e4cd-455c-a9bd-7af843ed80eb"
   },
   "outputs": [
    {
     "name": "stdout",
     "output_type": "stream",
     "text": [
      "+----+------------+----------+\n",
      "|fare|trip_seconds|trip_miles|\n",
      "+----+------------+----------+\n",
      "| 4.5|         180|       0.4|\n",
      "+----+------------+----------+\n",
      "only showing top 1 row\n",
      "\n"
     ]
    }
   ],
   "source": [
    "df.show(1)"
   ]
  },
  {
   "cell_type": "code",
   "execution_count": null,
   "metadata": {
    "colab": {
     "base_uri": "https://localhost:8080/"
    },
    "id": "aPiVQxGPWYn-",
    "outputId": "558075d9-f370-412e-da28-b1d583017943"
   },
   "outputs": [
    {
     "name": "stdout",
     "output_type": "stream",
     "text": [
      "+-------+------------------+-----------------+------------------+\n",
      "|summary|              fare|     trip_seconds|        trip_miles|\n",
      "+-------+------------------+-----------------+------------------+\n",
      "|  count|          19862606|         19862606|          19862606|\n",
      "|   mean|13.892086664760871|767.0163579240307| 3.394684370219944|\n",
      "| stddev|25.385934033731534|1060.416563035996|22.597176756854346|\n",
      "|    min|               0.0|                0|               0.0|\n",
      "|    25%|              6.25|              300|               0.1|\n",
      "|    50%|               8.5|              540|               1.1|\n",
      "|    75%|             14.25|              900|               2.7|\n",
      "|    max|            9999.0|            86399|            3353.1|\n",
      "+-------+------------------+-----------------+------------------+\n",
      "\n"
     ]
    }
   ],
   "source": [
    "# Using summary to see the min, 25%, 50%, 75%, and max\n",
    "df.summary().show()"
   ]
  },
  {
   "cell_type": "markdown",
   "metadata": {
    "id": "91n0zwTa7E98"
   },
   "source": [
    "#### Before Removing Outliners"
   ]
  },
  {
   "cell_type": "code",
   "execution_count": null,
   "metadata": {
    "colab": {
     "base_uri": "https://localhost:8080/"
    },
    "id": "9SFuOIf27DBw",
    "outputId": "3dd7b765-807e-4d87-cc20-b25751d19825"
   },
   "outputs": [
    {
     "name": "stdout",
     "output_type": "stream",
     "text": [
      "+-----+------------+----------+\n",
      "| fare|trip_seconds|trip_miles|\n",
      "+-----+------------+----------+\n",
      "|  4.5|         180|       0.4|\n",
      "| 4.45|         240|       0.7|\n",
      "|42.75|           0|       0.0|\n",
      "|  7.0|         480|       1.1|\n",
      "|10.25|         480|      2.71|\n",
      "|17.75|        1080|       6.2|\n",
      "| 45.0|        1500|      18.4|\n",
      "| 3.75|          60|       0.2|\n",
      "|  5.0|         180|       0.0|\n",
      "| 3.25|           0|       0.0|\n",
      "+-----+------------+----------+\n",
      "only showing top 10 rows\n",
      "\n"
     ]
    }
   ],
   "source": [
    "df.show(10)"
   ]
  },
  {
   "cell_type": "markdown",
   "metadata": {
    "id": "xzyk9X2t7hTQ"
   },
   "source": [
    "#### Removing Outliners"
   ]
  },
  {
   "cell_type": "code",
   "execution_count": null,
   "metadata": {
    "colab": {
     "base_uri": "https://localhost:8080/"
    },
    "id": "qzf3yoJbtdNz",
    "outputId": "c6b3d2d7-fd4c-4c6e-e4b4-1064141e61a9"
   },
   "outputs": [
    {
     "name": "stdout",
     "output_type": "stream",
     "text": [
      "+-----+------------+----------+\n",
      "| fare|trip_seconds|trip_miles|\n",
      "+-----+------------+----------+\n",
      "|  4.5|         180|       0.4|\n",
      "| 4.45|         240|       0.7|\n",
      "|42.75|           0|       0.0|\n",
      "|  7.0|         480|       1.1|\n",
      "|10.25|         480|      2.71|\n",
      "| 3.75|          60|       0.2|\n",
      "|  5.0|         180|       0.0|\n",
      "| 3.25|           0|       0.0|\n",
      "|  7.0|         480|       1.3|\n",
      "| 7.25|         420|       0.0|\n",
      "+-----+------------+----------+\n",
      "only showing top 10 rows\n",
      "\n"
     ]
    }
   ],
   "source": [
    "from pyspark.sql.functions import col, exp\n",
    "\n",
    "columns = [\"fare\", \"trip_seconds\", \"trip_miles\"] # These are the three columns that we are removing outliners from (filtering)\n",
    "\n",
    "for column in columns:\n",
    "\n",
    "  # calculate Q1 and Q3 for the column\n",
    "  quantiles = df.approxQuantile(column, [0.25, 0.75], 0.05) # (relative error 0.5 best for large datasets)\n",
    "  q1 = quantiles[0]\n",
    "  q3 = quantiles[1]\n",
    "\n",
    "  # calculating IQR = Q3 - Q1 (IQR = 75% - 25%)\n",
    "  iqr = q3 - q1\n",
    "\n",
    "  # the upper and lower bounds for outliers\n",
    "  factor = 1.5\n",
    "  lower_bound = q1 - factor * iqr\n",
    "  upper_bound = q3 + factor * iqr\n",
    "\n",
    "  # Filter out the outliers for the current column\n",
    "  remove_outliers_df = df.filter((col(column) >= lower_bound) & (col(column) <= upper_bound))\n",
    "\n",
    "df = remove_outliers_df # assigning remove_outliers_df to df\n",
    "\n",
    "df.show(10)"
   ]
  },
  {
   "cell_type": "markdown",
   "metadata": {
    "id": "-6yE4d6dtg-k"
   },
   "source": [
    "#------------------------------------------------------------------------------------------------------------------------------------------"
   ]
  },
  {
   "cell_type": "markdown",
   "metadata": {
    "id": "__eLt1PSj0AQ"
   },
   "source": [
    "###  Using VectorAssembler to merge the following columns into a 'features' column\n",
    "+ trip_seconds\n",
    "+ trip_miles"
   ]
  },
  {
   "cell_type": "code",
   "execution_count": null,
   "metadata": {
    "colab": {
     "base_uri": "https://localhost:8080/"
    },
    "id": "q-yz6NiBkYbx",
    "outputId": "9e75e295-967c-458d-dbfe-cd4a75e6f710"
   },
   "outputs": [
    {
     "name": "stdout",
     "output_type": "stream",
     "text": [
      "+------------+----------+\n",
      "|trip_seconds|trip_miles|\n",
      "+------------+----------+\n",
      "|         180|       0.4|\n",
      "+------------+----------+\n",
      "only showing top 1 row\n",
      "\n"
     ]
    }
   ],
   "source": [
    "df.select('trip_seconds', 'trip_miles').show(1)"
   ]
  },
  {
   "cell_type": "code",
   "execution_count": null,
   "metadata": {
    "colab": {
     "base_uri": "https://localhost:8080/"
    },
    "id": "in7UWkjBkv-6",
    "outputId": "44887343-1a5d-4f5f-f375-75dda64e22e6"
   },
   "outputs": [
    {
     "name": "stdout",
     "output_type": "stream",
     "text": [
      "Assembled columns: 'trip_seconds', 'trip_miles' columns into a 'features' column\n",
      "+------------+\n",
      "|features    |\n",
      "+------------+\n",
      "|[180.0,0.4] |\n",
      "|[240.0,0.7] |\n",
      "|(2,[],[])   |\n",
      "|[480.0,1.1] |\n",
      "|[480.0,2.71]|\n",
      "|[60.0,0.2]  |\n",
      "|[180.0,0.0] |\n",
      "|(2,[],[])   |\n",
      "|[480.0,1.3] |\n",
      "|[420.0,0.0] |\n",
      "|[1380.0,5.1]|\n",
      "|[420.0,0.0] |\n",
      "|[480.0,0.1] |\n",
      "|[720.0,0.0] |\n",
      "|[720.0,2.2] |\n",
      "|[300.0,0.8] |\n",
      "|[420.0,0.0] |\n",
      "|[660.0,4.1] |\n",
      "|[720.0,2.5] |\n",
      "|[720.0,0.2] |\n",
      "+------------+\n",
      "only showing top 20 rows\n",
      "\n"
     ]
    }
   ],
   "source": [
    "from pyspark.ml.linalg import Vectors\n",
    "# library we need\n",
    "from pyspark.ml.feature import VectorAssembler\n",
    "\n",
    "# using VectorAssembler to merge:\n",
    "# 'trip_seconds', 'trip_miles'\n",
    "# columns into a 'features' column\n",
    "\n",
    "assembler = VectorAssembler(\n",
    "    inputCols=['trip_seconds', 'trip_miles'],\n",
    "    outputCol='features')\n",
    "\n",
    "assembler_output = assembler.transform(df) # transforming assembler on df\n",
    "\n",
    "print(\"Assembled columns: 'trip_seconds', 'trip_miles' columns into a 'features' column\")\n",
    "\n",
    "df = assembler_output # assigning assembler_output to df\n",
    "\n",
    "df.select('features').show(truncate=False)"
   ]
  },
  {
   "cell_type": "markdown",
   "metadata": {
    "id": "GrRWVwWmglqE"
   },
   "source": [
    "### **Rename the 'fare' column as the 'label' column**\n"
   ]
  },
  {
   "cell_type": "code",
   "execution_count": null,
   "metadata": {
    "colab": {
     "base_uri": "https://localhost:8080/"
    },
    "id": "F3KKRtAignJc",
    "outputId": "1ee5657f-cb87-4f60-cfb5-7831648082ed"
   },
   "outputs": [
    {
     "name": "stdout",
     "output_type": "stream",
     "text": [
      "+-----+------------+----------+------------+-----+\n",
      "| fare|trip_seconds|trip_miles|    features|label|\n",
      "+-----+------------+----------+------------+-----+\n",
      "|  4.5|         180|       0.4| [180.0,0.4]|  4.5|\n",
      "| 4.45|         240|       0.7| [240.0,0.7]| 4.45|\n",
      "|42.75|           0|       0.0|   (2,[],[])|42.75|\n",
      "|  7.0|         480|       1.1| [480.0,1.1]|  7.0|\n",
      "|10.25|         480|      2.71|[480.0,2.71]|10.25|\n",
      "+-----+------------+----------+------------+-----+\n",
      "only showing top 5 rows\n",
      "\n"
     ]
    }
   ],
   "source": [
    "df = df.withColumn('label', df['fare'])\n",
    "# I rather create a new column named 'label' instead of renaming the column to ensure that I used the correct column\n",
    "\n",
    "df.show(5)"
   ]
  },
  {
   "cell_type": "code",
   "execution_count": null,
   "metadata": {
    "colab": {
     "base_uri": "https://localhost:8080/"
    },
    "id": "vqmkOdP_pglY",
    "outputId": "e4642294-e7ba-4368-ff9f-38a28623e124"
   },
   "outputs": [
    {
     "data": {
      "text/plain": [
       "['fare', 'trip_seconds', 'trip_miles', 'features', 'label']"
      ]
     },
     "execution_count": 21,
     "metadata": {},
     "output_type": "execute_result"
    }
   ],
   "source": [
    "df.columns"
   ]
  },
  {
   "cell_type": "markdown",
   "metadata": {
    "id": "Z4yu0DjLqBHS"
   },
   "source": [
    "### Random split the data into a training and test dataset with 70% training and 30% of test dataset (select your own seed)"
   ]
  },
  {
   "cell_type": "code",
   "execution_count": null,
   "metadata": {
    "id": "3D6sMZfEp78e"
   },
   "outputs": [],
   "source": [
    "# Random split the data into a training and test dataset with 70% training and 30% of test dataset\n",
    "(trainingData, testData) = df.randomSplit([0.70, 0.30], 25) # 70/30, seed=25"
   ]
  },
  {
   "cell_type": "markdown",
   "metadata": {
    "id": "j9-3mL2pt1Md"
   },
   "source": [
    "#------------------------------------------------------------------------------------------------------------------------------------------"
   ]
  },
  {
   "cell_type": "code",
   "execution_count": null,
   "metadata": {
    "colab": {
     "base_uri": "https://localhost:8080/"
    },
    "id": "J4JU2w3StPcE",
    "outputId": "85493a64-4849-48fd-e766-eca9dbe747b1"
   },
   "outputs": [
    {
     "name": "stdout",
     "output_type": "stream",
     "text": [
      "+----+------------+----------+-----------+-----+\n",
      "|fare|trip_seconds|trip_miles|   features|label|\n",
      "+----+------------+----------+-----------+-----+\n",
      "| 4.5|         180|       0.4|[180.0,0.4]|  4.5|\n",
      "+----+------------+----------+-----------+-----+\n",
      "only showing top 1 row\n",
      "\n"
     ]
    }
   ],
   "source": [
    "df.show(1)"
   ]
  },
  {
   "cell_type": "markdown",
   "metadata": {
    "id": "nNh_kb2qVIfT"
   },
   "source": [
    "# 4. You are asked to forecast fare using trip_seconds, trip_miles and Build a **linear regression with elastic net Regularizers**."
   ]
  },
  {
   "cell_type": "code",
   "execution_count": null,
   "metadata": {
    "id": "O_GSgCcA0Sqi"
   },
   "outputs": [],
   "source": [
    "# library needed\n",
    "from pyspark.ml.regression import LinearRegression\n",
    "\n",
    "# forecast fare using trip_seconds, trip_miles and Build a linear regression with elastic net Regularizers\n",
    "# label column is 'fare'\n",
    "# 'trip_seconds', 'trip_miles' have been merged into features column\n",
    "\n",
    "\n",
    "# Build a linear regression with elastic net Regularizers                  (Regularizers, elastic net)\n",
    "lr = LinearRegression(featuresCol='features', labelCol='label', maxIter=10, regParam=0.3, elasticNetParam=0.8)\n",
    "\n",
    "lr_model = lr.fit(trainingData) # fitting lr model to trainingData"
   ]
  },
  {
   "cell_type": "markdown",
   "metadata": {
    "id": "l366R3S1Vy_B"
   },
   "source": [
    "### Evaluate the model above on the test dataset\n",
    "find the following metrics\n",
    "* RMSE\n",
    "* R squared\n",
    "\n",
    "Please see https://spark.apache.org/docs/latest/api/python/reference/api/pyspark.ml.evaluation.RegressionEvaluator.html\n",
    "for metric names\n",
    "\n",
    "https://www.machinelearningplus.com/pyspark/pyspark-linear-regression/"
   ]
  },
  {
   "cell_type": "code",
   "execution_count": null,
   "metadata": {
    "colab": {
     "base_uri": "https://localhost:8080/"
    },
    "id": "z13QxoR3oD-F",
    "outputId": "b4a7d8ed-0f2c-4671-f93f-4b28e883e869"
   },
   "outputs": [
    {
     "name": "stdout",
     "output_type": "stream",
     "text": [
      "+-----------------+-----+---------+\n",
      "|       prediction|label| features|\n",
      "+-----------------+-----+---------+\n",
      "|8.451084603617602|  0.0|(2,[],[])|\n",
      "|8.451084603617602|  0.0|(2,[],[])|\n",
      "|8.451084603617602|  0.0|(2,[],[])|\n",
      "|8.451084603617602|  0.0|(2,[],[])|\n",
      "|8.451084603617602|  0.0|(2,[],[])|\n",
      "+-----------------+-----+---------+\n",
      "only showing top 5 rows\n",
      "\n",
      "Root Mean Squared Error (RMSE) on lr_model test data = 25.44285\n",
      "R squared (r2) on lr_model test data = 0.01515\n"
     ]
    }
   ],
   "source": [
    "# needed for evaluation\n",
    "from pyspark.ml.evaluation import RegressionEvaluator\n",
    "\n",
    "# evaluate the model performance on the test dataset\n",
    "\n",
    "# Make predictions on the test data set to evalute the lr_model performance\n",
    "lr_predictions = lr_model.transform(testData)\n",
    "\n",
    "lr_predictions.select(\"prediction\", \"label\", \"features\").show(5)\n",
    "\n",
    "#---------------------------------------------------------------------------\n",
    "\n",
    "# RMSE\n",
    "rmse_evaluator_lr = RegressionEvaluator(labelCol=\"label\", predictionCol=\"prediction\", metricName=\"rmse\")\n",
    "rmse_lr = rmse_evaluator_lr.evaluate(lr_predictions)\n",
    "print(f\"Root Mean Squared Error (RMSE) on lr_model test data = {round(rmse_lr, 5)}\")\n",
    "\n",
    "\n",
    "#---------------------------------------------------------------------------\n",
    "\n",
    "# R squared\n",
    "r2_evaluator_lr = RegressionEvaluator(labelCol=\"label\", predictionCol=\"prediction\", metricName=\"r2\")\n",
    "r2_lr = r2_evaluator_lr.evaluate(lr_predictions)\n",
    "print(f\"R squared (r2) on lr_model test data = {round(r2_lr, 5)}\")\n"
   ]
  },
  {
   "cell_type": "markdown",
   "metadata": {
    "id": "KN9VS8iWVLtZ"
   },
   "source": [
    "# 5. You are asked to forecast fare using trip_seconds, trip_miles and Build a **simple tree model**."
   ]
  },
  {
   "cell_type": "code",
   "execution_count": null,
   "metadata": {
    "id": "auCKa588WZxc"
   },
   "outputs": [],
   "source": [
    "# libary for tree regression\n",
    "from pyspark.ml.regression import DecisionTreeRegressor\n",
    "\n",
    "# forecast fare using trip_seconds, trip_miles and Build a simple tree model.\n",
    "# label column is 'fare'\n",
    "# 'trip_seconds', 'trip_miles' have been merged into features column\n",
    "\n",
    "# Build a simple tree model.\n",
    "dt = DecisionTreeRegressor(featuresCol='features', labelCol='label')\n",
    "\n",
    "dt_model = dt.fit(trainingData) # fitting dt model to trainingData"
   ]
  },
  {
   "cell_type": "markdown",
   "metadata": {
    "id": "OdlIQ3WeWIJV"
   },
   "source": [
    "### Evaluate the model above on the test dataset\n",
    "find the following metrics\n",
    "* RMSE\n",
    "* R squared\n",
    "\n",
    "Please see https://spark.apache.org/docs/latest/api/python/reference/api/pyspark.ml.evaluation.RegressionEvaluator.html\n",
    "for metric names\n",
    "\n",
    "https://www.machinelearningplus.com/pyspark/pyspark-linear-regression/"
   ]
  },
  {
   "cell_type": "code",
   "execution_count": null,
   "metadata": {
    "colab": {
     "base_uri": "https://localhost:8080/"
    },
    "id": "LQ_PWqmdWHsD",
    "outputId": "36d672a2-80f1-4df2-c6a8-b7e8a8e2a2cf"
   },
   "outputs": [
    {
     "name": "stdout",
     "output_type": "stream",
     "text": [
      "+------------------+-----+---------+\n",
      "|        prediction|label| features|\n",
      "+------------------+-----+---------+\n",
      "|15.325389457652781|  0.0|(2,[],[])|\n",
      "|15.325389457652781|  0.0|(2,[],[])|\n",
      "|15.325389457652781|  0.0|(2,[],[])|\n",
      "|15.325389457652781|  0.0|(2,[],[])|\n",
      "|15.325389457652781|  0.0|(2,[],[])|\n",
      "+------------------+-----+---------+\n",
      "only showing top 5 rows\n",
      "\n",
      "Root Mean Squared Error (RMSE) on dt_model test data = 24.78811\n",
      "R squared (r2) on dt_model test data = 0.06519\n"
     ]
    }
   ],
   "source": [
    "# evaluate the model performance on the test dataset\n",
    "\n",
    "# Make predictions on the test data set to evalute the dt_model performance\n",
    "dt_predictions = dt_model.transform(testData)\n",
    "\n",
    "dt_predictions.select(\"prediction\", \"label\", \"features\").show(5)\n",
    "\n",
    "#---------------------------------------------------------------------------\n",
    "\n",
    "# RMSE\n",
    "rmse_evaluator_dt = RegressionEvaluator(labelCol=\"label\", predictionCol=\"prediction\", metricName=\"rmse\")\n",
    "rmse_dt = rmse_evaluator_dt.evaluate(dt_predictions)\n",
    "print(f\"Root Mean Squared Error (RMSE) on dt_model test data = {round(rmse_dt, 5)}\")\n",
    "\n",
    "\n",
    "#---------------------------------------------------------------------------\n",
    "\n",
    "# R squared\n",
    "r2_evaluator_dt = RegressionEvaluator(labelCol=\"label\", predictionCol=\"prediction\", metricName=\"r2\")\n",
    "r2_dt = r2_evaluator_dt.evaluate(dt_predictions)\n",
    "print(f\"R squared (r2) on dt_model test data = {round(r2_dt, 5)}\")\n"
   ]
  },
  {
   "cell_type": "markdown",
   "metadata": {
    "id": "YacSCf3kVP4N"
   },
   "source": [
    "# 6. You are asked to forecast fare using trip_seconds, trip_miles and Build a **random forest model**."
   ]
  },
  {
   "cell_type": "code",
   "execution_count": null,
   "metadata": {
    "id": "1bVpKhvQWaR3"
   },
   "outputs": [],
   "source": [
    "# libary for random forest regressor for regression\n",
    "from pyspark.ml.regression import RandomForestRegressor\n",
    "\n",
    "# forecast fare using trip_seconds, trip_miles and Build a random forest model\n",
    "# label column is 'fare'\n",
    "# 'trip_seconds', 'trip_miles' have been merged into features column\n",
    "\n",
    "# Build a random forest model\n",
    "rf = RandomForestRegressor(featuresCol='features', labelCol='label')\n",
    "\n",
    "rf_model = rf.fit(trainingData) # fitting rf model to trainingData"
   ]
  },
  {
   "cell_type": "markdown",
   "metadata": {
    "id": "xiefhXrLWKHK"
   },
   "source": [
    "### Evaluate the model above on the test dataset\n",
    "find the following metrics\n",
    "* RMSE\n",
    "* R squared\n",
    "\n",
    "Please see https://spark.apache.org/docs/latest/api/python/reference/api/pyspark.ml.evaluation.RegressionEvaluator.html\n",
    "for metric names\n",
    "\n",
    "https://www.machinelearningplus.com/pyspark/pyspark-linear-regression/"
   ]
  },
  {
   "cell_type": "code",
   "execution_count": null,
   "metadata": {
    "colab": {
     "base_uri": "https://localhost:8080/"
    },
    "id": "8hsSleeYWJ4x",
    "outputId": "465856ca-e208-4ab8-ce12-1d2aefb8bdcf"
   },
   "outputs": [
    {
     "name": "stdout",
     "output_type": "stream",
     "text": [
      "+-----------------+-----+---------+\n",
      "|       prediction|label| features|\n",
      "+-----------------+-----+---------+\n",
      "|14.66787951905511|  0.0|(2,[],[])|\n",
      "|14.66787951905511|  0.0|(2,[],[])|\n",
      "|14.66787951905511|  0.0|(2,[],[])|\n",
      "|14.66787951905511|  0.0|(2,[],[])|\n",
      "|14.66787951905511|  0.0|(2,[],[])|\n",
      "+-----------------+-----+---------+\n",
      "only showing top 5 rows\n",
      "\n",
      "Root Mean Squared Error (RMSE) on rf_model test data = 24.83202\n",
      "R squared (r2) on rf_model test data = 0.06187\n"
     ]
    }
   ],
   "source": [
    "# evaluate the model performance on the test dataset\n",
    "\n",
    "# Make predictions on the test data set to evalute the rf_model performance\n",
    "rf_predictions = rf_model.transform(testData)\n",
    "\n",
    "rf_predictions.select(\"prediction\", \"label\", \"features\").show(5)\n",
    "\n",
    "#---------------------------------------------------------------------------\n",
    "\n",
    "# RMSE\n",
    "rmse_evaluator_rf = RegressionEvaluator(labelCol=\"label\", predictionCol=\"prediction\", metricName=\"rmse\")\n",
    "rmse_rf = rmse_evaluator_rf.evaluate(rf_predictions)\n",
    "print(f\"Root Mean Squared Error (RMSE) on rf_model test data = {round(rmse_rf, 5)}\")\n",
    "\n",
    "\n",
    "#---------------------------------------------------------------------------\n",
    "\n",
    "# R squared\n",
    "r2_evaluator_rf = RegressionEvaluator(labelCol=\"label\", predictionCol=\"prediction\", metricName=\"r2\")\n",
    "r2_rf = r2_evaluator_rf.evaluate(rf_predictions)\n",
    "print(f\"R squared (r2) on rf_model test data = {round(r2_rf, 5)}\")"
   ]
  },
  {
   "cell_type": "markdown",
   "metadata": {
    "id": "mgiLFd1ZVTI9"
   },
   "source": [
    "# 7. You are asked to forecast fare using trip_seconds, trip_miles and Build a **Gradient-Boosted Tree**"
   ]
  },
  {
   "cell_type": "code",
   "execution_count": null,
   "metadata": {
    "id": "zHErI5NXWa4q"
   },
   "outputs": [],
   "source": [
    "# libary gradient boosted tree for regression\n",
    "from pyspark.ml.regression import GBTRegressor\n",
    "\n",
    "# forecast fare using trip_seconds, trip_miles and Build a Gradient-Boosted Tree\n",
    "# label column is 'fare'\n",
    "# 'trip_seconds', 'trip_miles' have been merged into features column\n",
    "\n",
    "# Build a Gradient-Boosted Tree\n",
    "gbt = GBTRegressor(featuresCol='features', labelCol='label', maxIter=10)\n",
    "\n",
    "gbt_model = gbt.fit(trainingData) # fitting gbt model to trainingData"
   ]
  },
  {
   "cell_type": "markdown",
   "metadata": {
    "id": "dkXCYRGlWLu6"
   },
   "source": [
    "### Evaluate the model above on the test dataset\n",
    "find the following metrics\n",
    "* RMSE\n",
    "* R squared\n",
    "\n",
    "Please see https://spark.apache.org/docs/latest/api/python/reference/api/pyspark.ml.evaluation.RegressionEvaluator.html\n",
    "for metric names\n",
    "\n",
    "https://www.machinelearningplus.com/pyspark/pyspark-linear-regression/"
   ]
  },
  {
   "cell_type": "code",
   "execution_count": null,
   "metadata": {
    "colab": {
     "base_uri": "https://localhost:8080/"
    },
    "id": "SmimJnVPWMPj",
    "outputId": "967652f9-6a43-4028-ffc8-182635679878"
   },
   "outputs": [
    {
     "name": "stdout",
     "output_type": "stream",
     "text": [
      "+------------------+-----+---------+\n",
      "|        prediction|label| features|\n",
      "+------------------+-----+---------+\n",
      "|15.321770137659609|  0.0|(2,[],[])|\n",
      "|15.321770137659609|  0.0|(2,[],[])|\n",
      "|15.321770137659609|  0.0|(2,[],[])|\n",
      "|15.321770137659609|  0.0|(2,[],[])|\n",
      "|15.321770137659609|  0.0|(2,[],[])|\n",
      "+------------------+-----+---------+\n",
      "only showing top 5 rows\n",
      "\n",
      "Root Mean Squared Error (RMSE) on gbt_model test data = 24.76347\n",
      "R squared (r2) on gbt_model test data = 0.06704\n"
     ]
    }
   ],
   "source": [
    "# evaluate the model performance on the test dataset\n",
    "\n",
    "# Make predictions on the test data set to evalute the gbt_model performance\n",
    "gbt_predictions = gbt_model.transform(testData)\n",
    "\n",
    "gbt_predictions.select(\"prediction\", \"label\", \"features\").show(5)\n",
    "\n",
    "#---------------------------------------------------------------------------\n",
    "\n",
    "# RMSE\n",
    "rmse_evaluator_gbt = RegressionEvaluator(labelCol=\"label\", predictionCol=\"prediction\", metricName=\"rmse\")\n",
    "rmse_gbt = rmse_evaluator_gbt.evaluate(gbt_predictions)\n",
    "print(f\"Root Mean Squared Error (RMSE) on gbt_model test data = {round(rmse_gbt, 5)}\")\n",
    "\n",
    "\n",
    "#---------------------------------------------------------------------------\n",
    "\n",
    "# R squared\n",
    "r2_evaluator_gbt = RegressionEvaluator(labelCol=\"label\", predictionCol=\"prediction\", metricName=\"r2\")\n",
    "r2_gbt = r2_evaluator_gbt.evaluate(gbt_predictions)\n",
    "print(f\"R squared (r2) on gbt_model test data = {round(r2_gbt, 5)}\")"
   ]
  },
  {
   "cell_type": "markdown",
   "metadata": {
    "id": "vdip57ZaVWrL"
   },
   "source": [
    "# 8. Which model do you recommend to use? Justify your answer."
   ]
  },
  {
   "cell_type": "code",
   "execution_count": null,
   "metadata": {
    "colab": {
     "base_uri": "https://localhost:8080/"
    },
    "id": "WfI8L8dcYfRx",
    "outputId": "a2d11621-6dfb-4cc0-d967-a151fc237abe"
   },
   "outputs": [
    {
     "name": "stdout",
     "output_type": "stream",
     "text": [
      "The Range for RMSE from 0 is perfect, and any number further away from 0 is the worst. Range (0 to infinity).\n",
      "The Lowest Root Mean Squared Error (RMSE) is = 24.76347\n",
      "\n",
      "The Range for R squared is from (0 Bad and 1 Perfect). The highest R squared is the best.\n",
      "The Highest R squared (r2) is = 0.06704\n"
     ]
    }
   ],
   "source": [
    "print(\"The Range for RMSE from 0 is perfect, and any number further away from 0 is the worst. Range (0 to infinity).\")\n",
    "print(f\"The Lowest Root Mean Squared Error (RMSE) is = {round(min(rmse_lr, rmse_dt, rmse_rf, rmse_gbt), 5)}\\n\")\n",
    "\n",
    "print(\"The Range for R squared is from (0 Bad and 1 Perfect). The highest R squared is the best.\")\n",
    "print(f\"The Highest R squared (r2) is = {round(max(r2_lr, r2_dt, r2_rf, r2_gbt), 5)}\")"
   ]
  },
  {
   "cell_type": "code",
   "execution_count": null,
   "metadata": {
    "colab": {
     "base_uri": "https://localhost:8080/"
    },
    "id": "l65QF1XQXJ7L",
    "outputId": "5b661029-a296-40bb-eb1d-3371d538ed77"
   },
   "outputs": [
    {
     "name": "stdout",
     "output_type": "stream",
     "text": [
      "\t\t\t\tlr,\t\t  dt,              rf,         gbt\n",
      "----------------------------------------------------------------------------------------------------\n",
      "The RMSE's are: (25.442854978730182, 24.788108265578384, 24.832022713512607, 24.763471551249655)\n",
      "The r2's are:   (0.015151056349029024, 0.06518707799638623, 0.06187192732061986, 0.06704436162887983)\n"
     ]
    }
   ],
   "source": [
    "print(f\"\\t\\t\\t\\tlr,\\t\\t  dt,              rf,         gbt\")\n",
    "print(\"--\"*50)\n",
    "print(f\"The RMSE's are: {rmse_lr, rmse_dt, rmse_rf, rmse_gbt}\")\n",
    "print(f\"The r2's are:   {r2_lr, r2_dt, r2_rf, r2_gbt}\")"
   ]
  },
  {
   "cell_type": "markdown",
   "metadata": {
    "id": "y6GN0irsegp3"
   },
   "source": [
    "### **For Presentation**: Creating Horizontal Bar plots to show which model is best based on RMSE and R2"
   ]
  },
  {
   "cell_type": "code",
   "execution_count": null,
   "metadata": {
    "colab": {
     "base_uri": "https://localhost:8080/",
     "height": 487
    },
    "id": "n6Ao85i7ehzA",
    "outputId": "349e5281-9088-4587-95e9-234d324beffb"
   },
   "outputs": [
    {
     "data": {
      "image/png": "[encoded data removed]",
      "text/plain": [
       "<Figure size 1200x500 with 2 Axes>"
      ]
     },
     "metadata": {},
     "output_type": "display_data"
    }
   ],
   "source": [
    "import matplotlib.pyplot as plt\n",
    "\n",
    "model_labels = ['lr', 'dt', 'rf', 'gbt']\n",
    "rmse_values = [rmse_lr, rmse_dt, rmse_rf, rmse_gbt]\n",
    "# rmse_values = [25.44285, 24.79613, 24.83823, 24.77321]\n",
    "\n",
    "# rmse_values = [round(x, 5) for x in rmse_values]\n",
    "\n",
    "r2_values = [r2_lr, r2_dt, r2_rf, r2_gbt]\n",
    "# r2_values =  [0.01515, 0.06458, 0.0614, 0.06631]\n",
    "\n",
    "plt.figure(figsize=[12,5])\n",
    "\n",
    "plt.subplot(1, 2, 1)\n",
    "plt.barh(model_labels, rmse_values, color= 'peru')\n",
    "plt.xlabel('Values')\n",
    "plt.ylabel('Models')\n",
    "plt.title('RMSE for Different Models')\n",
    "plt.xlim(24.4, 25.6)\n",
    "plt.grid(axis='x', color='k', ls= '--')\n",
    "\n",
    "plt.subplot(1, 2, 2)\n",
    "plt.barh(model_labels, r2_values, color='salmon')\n",
    "plt.xlabel('Values')\n",
    "plt.ylabel('Models')\n",
    "plt.title('R-squared for Different Models')\n",
    "plt.grid(axis='x', color='k', ls= '--')\n",
    "plt.show()"
   ]
  },
  {
   "cell_type": "markdown",
   "metadata": {
    "id": "Vo6fb-XelEi9"
   },
   "source": [
    "### Finding which model is the best based on RMSE and R2\n",
    "The if-elif statements are used to find the best model and assign it to the variable best_model and best_intial_model"
   ]
  },
  {
   "cell_type": "code",
   "execution_count": null,
   "metadata": {
    "colab": {
     "base_uri": "https://localhost:8080/"
    },
    "id": "h2uyAXt4YNR6",
    "outputId": "a4818ba4-5d66-4874-f3a4-286d0b7dba48"
   },
   "outputs": [
    {
     "name": "stdout",
     "output_type": "stream",
     "text": [
      "The best model: GBTRegressionModel: uid=GBTRegressor_c96c3c341349, numTrees=10, numFeatures=2\n",
      "\n",
      "The best initial model: GBTRegressor_c96c3c341349\n"
     ]
    }
   ],
   "source": [
    "# finding which model is the best based on rmse and r2\n",
    "# the if-elif statements are used to find the best model are assign it to the varible best_model\n",
    "\n",
    "min_rmse = min(rmse_lr, rmse_dt, rmse_rf, rmse_gbt)\n",
    "max_r2 = max(r2_lr, r2_dt, r2_rf, r2_gbt)\n",
    "\n",
    "# Initialize best_model and best_intial_model\n",
    "best_model = None\n",
    "best_intial_model = None\n",
    "\n",
    "if (min_rmse == rmse_lr and max_r2 == r2_lr):\n",
    "    best_model = lr_model        # lr_model\n",
    "    best_intial_model = lr       # lr\n",
    "\n",
    "elif(min_rmse == rmse_dt and max_r2 == r2_dt):\n",
    "    best_model = dt_model        # dt_model\n",
    "    best_intial_model = dt       # dt\n",
    "\n",
    "elif(min_rmse == rmse_rf and max_r2 == r2_rf):\n",
    "    best_model = rf_model        # rf_model\n",
    "    best_intial_model = rf       # rf\n",
    "\n",
    "elif(min_rmse == rmse_gbt and max_r2 == r2_gbt):\n",
    "    best_model = gbt_model       # gbt_model\n",
    "    best_intial_model = gbt      # gbt\n",
    "\n",
    "else:\n",
    "    print(\"No best model\")\n",
    "\n",
    "print(f\"The best model: {best_model}\")\n",
    "print()\n",
    "print(f\"The best initial model: {best_intial_model}\")"
   ]
  },
  {
   "cell_type": "markdown",
   "metadata": {
    "id": "tS7LUTYjWbke"
   },
   "source": [
    "### **Justifying My Answer**\n",
    "\n",
    "The model I recommend using is the **Gradient-Boosted Tree (gbt) model**.\n",
    "\n",
    "Gradient-Boosted Tree is the best model built out of the four regression models: linear regression with elastic net Regularizers, simple tree model, random forest model, and Gradient-Boosted Tree.\n",
    "\n",
    "Since the Gradient-Boosted Tree model's Root Mean Squared Error (RMSE) is the closest to 0, it is the best; it is the lowest of the other models.\n",
    "\n",
    "Then, the Gradient-Boosted Tree model's R squared (r2) is the best because it is the closest to 1. It is the highest out of the other models.\n"
   ]
  },
  {
   "cell_type": "markdown",
   "metadata": {
    "id": "uI_ANyzNVbko"
   },
   "source": [
    "# 9. Please perform hyperparameter tuning on the model you selected in step 8. (sine it is a huge dataset, you may use 1 parameter for each hyperparameters to save time)"
   ]
  },
  {
   "cell_type": "markdown",
   "metadata": {
    "id": "W_C5pkTbfihp"
   },
   "source": [
    "### Universal Hyperparameter Tuning\n",
    "#### (distinct parameters that can be used for any model)\n",
    "I created if-elif statements that identify the best initial model compared to lr, rf, dt, and gbt.\n",
    "\n",
    "Do not use CrossValidator is very expensive. Instead, **use the Train-Validation Split, which is less expensive**."
   ]
  },
  {
   "cell_type": "code",
   "execution_count": null,
   "metadata": {
    "colab": {
     "base_uri": "https://localhost:8080/"
    },
    "id": "IQQ0VLs_dpH-",
    "outputId": "4b7824b7-ab81-468b-e696-91eb8977caac"
   },
   "outputs": [
    {
     "name": "stdout",
     "output_type": "stream",
     "text": [
      "The best_intial_model is GBTRegressor_c96c3c341349 (gbt)\n"
     ]
    }
   ],
   "source": [
    "# hyperparameter tuning on the best model using Train Validation Split and parameter grid builder\n",
    "# libraries for Train Validation Split and parameter grid builder\n",
    "from pyspark.ml.tuning import TrainValidationSplit, ParamGridBuilder\n",
    "\n",
    "# Hyperparameter Tuning parameter that can be used for any model\n",
    "\n",
    "# parameter grid builder\n",
    "if (best_intial_model == lr): # For lr\n",
    "  print(f\"The best_intial_model is {best_intial_model} (lr)\")\n",
    "  paramGrid = ParamGridBuilder().addGrid(best_intial_model.regParam, [0.1, 0.01, 10]).build() # using 1 parameter (lr)\n",
    "\n",
    "# elif (best_intial_model in [dt, rf, gbt]):  # For dt, rf, gbt\n",
    "#   print(f\"The best_intial_model is {best_intial_model} (dt, rf, gbt)\")\n",
    "#   paramGrid = ParamGridBuilder().addGrid(best_intial_model.maxDepth, [3, 4, 5, 6]).build() # using 1 parameter (dt, rf, gbt)\n",
    "\n",
    "# else:\n",
    "#   print(\"No best intial model\")\n",
    "\n",
    "\n",
    "# With the parametersabove the optimal number of cluster is 4.\n",
    "\n",
    "# Above created Universal Hyperparameter for dt, rf, gbt\n",
    "# parameters for each model (if needed)\n",
    "\n",
    "elif (best_intial_model == dt):  # For dt\n",
    "  print(f\"The best_intial_model is {best_intial_model} (dt)\")\n",
    "  paramGrid = ParamGridBuilder().addGrid(best_intial_model.maxDepth, [3, 4, 5, 6]).build() # using 1 parameter (dt)\n",
    "\n",
    "elif (best_intial_model == rf): # For rf\n",
    "  print(f\"The best_intial_model is {best_intial_model} (rf)\")\n",
    "  paramGrid = ParamGridBuilder().addGrid(best_intial_model.numTrees, [5, 10, 20, 30]).build() # using 1 parameter (rf)\n",
    "\n",
    "elif (best_intial_model == gbt): # For gbt\n",
    "  print(f\"The best_intial_model is {best_intial_model} (gbt)\")      # (removed 2nd parameter took to long just say with 1 parameter)\n",
    "  paramGrid = ParamGridBuilder().addGrid(best_intial_model.minInstancesPerNode, [1, 2, 5, 10]).build() # using 1 parameter (gbt)\n",
    "\n",
    "else:\n",
    "  print(\"No best intial model\")\n",
    "\n",
    "# TrainValidationSplit\n",
    "tvs = TrainValidationSplit(estimator=best_intial_model,\n",
    "                           estimatorParamMaps=paramGrid,\n",
    "                           evaluator=RegressionEvaluator(), #Evaluate the model using regression\n",
    "                           trainRatio=0.80)  # (80/20) 80% for training/ 20% for validation\n"
   ]
  },
  {
   "cell_type": "markdown",
   "metadata": {
    "id": "K_4xhntWFW5w"
   },
   "source": [
    "### Regression Evaluation based on Hyperparameter Tuning on the model\n",
    "One parameter for each hyperparameter"
   ]
  },
  {
   "cell_type": "code",
   "execution_count": null,
   "metadata": {
    "colab": {
     "base_uri": "https://localhost:8080/"
    },
    "id": "tLkD6iJl8lWF",
    "outputId": "dcec7fcc-53a3-4212-a718-730d01986609"
   },
   "outputs": [
    {
     "name": "stdout",
     "output_type": "stream",
     "text": [
      "TrainValidationSplit results with the parameter I choose\n",
      "+---------+-----+------------------+\n",
      "| features|label|        prediction|\n",
      "+---------+-----+------------------+\n",
      "|(2,[],[])|  0.0|15.321770137659609|\n",
      "|(2,[],[])|  0.0|15.321770137659609|\n",
      "|(2,[],[])|  0.0|15.321770137659609|\n",
      "|(2,[],[])|  0.0|15.321770137659609|\n",
      "|(2,[],[])|  0.0|15.321770137659609|\n",
      "+---------+-----+------------------+\n",
      "only showing top 5 rows\n",
      "\n",
      "Root Mean Squared Error (RMSE) on model_tvs test data = 24.76347\n",
      "R squared (r2) on model_tvs test data = 0.06704\n"
     ]
    }
   ],
   "source": [
    "# Run TrainValidationSplit\n",
    "# since it is a huge dataset, you may use 1 parameter for each hyperparameters to save time\n",
    "# refit on the whole training dataset\n",
    "\n",
    "print(\"TrainValidationSplit results with the parameter I choose\")\n",
    "\n",
    "model_tvs = tvs.fit(trainingData)\n",
    "\n",
    "# Make predictions on the test data set model with the parameters that performed best.\n",
    "tvs_predictions = model_tvs.transform(testData)\n",
    "\n",
    "tvs_predictions.select(\"features\", \"label\", \"prediction\").show(5)\n",
    "\n",
    "#---------------------------------------------------------------------------\n",
    "\n",
    "# RMSE\n",
    "rmse_evaluator_tvs = RegressionEvaluator(labelCol=\"label\", predictionCol=\"prediction\", metricName=\"rmse\")\n",
    "rmse_tvs = rmse_evaluator_tvs.evaluate(tvs_predictions)\n",
    "print(f\"Root Mean Squared Error (RMSE) on model_tvs test data = {round(rmse_tvs, 5)}\")\n",
    "\n",
    "\n",
    "#---------------------------------------------------------------------------\n",
    "\n",
    "# R squared\n",
    "r2_evaluator_tvs = RegressionEvaluator(labelCol=\"label\", predictionCol=\"prediction\", metricName=\"r2\")\n",
    "r2_tvs = r2_evaluator_tvs.evaluate(tvs_predictions)\n",
    "print(f\"R squared (r2) on model_tvs test data = {round(r2_tvs, 5)}\")"
   ]
  },
  {
   "cell_type": "markdown",
   "metadata": {
    "id": "vJ55o72C7247"
   },
   "source": [
    "### Previous Results from the Different Models Before Hyperparameter Tuning"
   ]
  },
  {
   "cell_type": "code",
   "execution_count": null,
   "metadata": {
    "colab": {
     "base_uri": "https://localhost:8080/"
    },
    "id": "Cu_e-zdWTIRB",
    "outputId": "cd3369af-b04a-4159-adf4-9c5ce82da14b"
   },
   "outputs": [
    {
     "name": "stdout",
     "output_type": "stream",
     "text": [
      "                   gbt\n",
      "---------------------------\n",
      "The RMSE's are: 24.763471551249655\n",
      "The r2's are:   0.06704436162887983\n"
     ]
    }
   ],
   "source": [
    "print(f\"                   gbt\")\n",
    "print(\"---------------------------\")\n",
    "print(f\"The RMSE's are: {rmse_gbt}\")\n",
    "print(f\"The r2's are:   {r2_gbt}\")"
   ]
  },
  {
   "cell_type": "markdown",
   "metadata": {
    "id": "LvDC0x32TGI-"
   },
   "source": [
    "### **Comparing Hyperparameter Tuning Results vs the Previous Results from the Best Model Found**"
   ]
  },
  {
   "cell_type": "markdown",
   "metadata": {
    "id": "okhmmAwV7oom"
   },
   "source": [
    "No improvement occurred between performing Hyperparameter Tuning and the Gradient-Boosted Tree model results. Both have the same RMSE of 24.76347 and R squared of 0.06704."
   ]
  },
  {
   "cell_type": "code",
   "execution_count": null,
   "metadata": {
    "colab": {
     "base_uri": "https://localhost:8080/"
    },
    "id": "kykhjlOroq1l",
    "outputId": "beda1e6f-efbf-4d8f-f8e4-7f1c146238d0"
   },
   "outputs": [
    {
     "name": "stdout",
     "output_type": "stream",
     "text": [
      "+----+------------+----------+-----------+-----+\n",
      "|fare|trip_seconds|trip_miles|   features|label|\n",
      "+----+------------+----------+-----------+-----+\n",
      "| 4.5|         180|       0.4|[180.0,0.4]|  4.5|\n",
      "+----+------------+----------+-----------+-----+\n",
      "only showing top 1 row\n",
      "\n"
     ]
    }
   ],
   "source": [
    "df.show(1)"
   ]
  },
  {
   "cell_type": "markdown",
   "metadata": {
    "id": "ukYFdCVvWG-U"
   },
   "source": [
    "# 10. Perform k-means clustering using features trip_seconds, trip_miles, and fare. Please recommend the optimal number of clusters and justify your answer.\n",
    "\n",
    "There is no label in k-means, only features for clustering. Create a new vector assembler with the trip_seconds, trip_miles, and fare columns and name a new vector assembler kmeans_assembler."
   ]
  },
  {
   "cell_type": "code",
   "execution_count": null,
   "metadata": {
    "id": "hrDtv4AmgbNb"
   },
   "outputs": [],
   "source": [
    "# df.show(1)"
   ]
  },
  {
   "cell_type": "markdown",
   "metadata": {
    "id": "Iaj3f1eGmbnH"
   },
   "source": [
    "### Creating a variable that selects only the features trip_seconds, trip_miles, and fare from the df\n",
    "'df_features_clustering3' only has 'trip_seconds', 'trip_miles', and 'fare' columns"
   ]
  },
  {
   "cell_type": "code",
   "execution_count": null,
   "metadata": {
    "colab": {
     "base_uri": "https://localhost:8080/"
    },
    "id": "ug52bH0Ska5d",
    "outputId": "6ebbe68e-429b-4bff-db1e-970a11c2636a"
   },
   "outputs": [
    {
     "name": "stdout",
     "output_type": "stream",
     "text": [
      "+------------+----------+-----+\n",
      "|trip_seconds|trip_miles| fare|\n",
      "+------------+----------+-----+\n",
      "|         180|       0.4|  4.5|\n",
      "|         240|       0.7| 4.45|\n",
      "|           0|       0.0|42.75|\n",
      "|         480|       1.1|  7.0|\n",
      "|         480|      2.71|10.25|\n",
      "+------------+----------+-----+\n",
      "only showing top 5 rows\n",
      "\n"
     ]
    }
   ],
   "source": [
    "# k-means clustering using features trip_seconds, trip_miles, and fare.\n",
    "\n",
    "# selecting trip_seconds, trip_miles, and fare columns for the variable\n",
    "df_features_clustering3 = df.select('trip_seconds', 'trip_miles', 'fare')\n",
    "\n",
    "df_features_clustering3.show(5)\n"
   ]
  },
  {
   "cell_type": "markdown",
   "metadata": {
    "id": "2EkJvNJlzPoU"
   },
   "source": [
    "### Create a new vector assembler with the trip_seconds, trip_miles, and fare columns and name a new vector assembler kmeans_assembler\n"
   ]
  },
  {
   "cell_type": "code",
   "execution_count": null,
   "metadata": {
    "colab": {
     "base_uri": "https://localhost:8080/"
    },
    "id": "3anRtIpZX0p-",
    "outputId": "98c86755-3fb1-4d8d-ff67-6d0bd774ca0e"
   },
   "outputs": [
    {
     "name": "stdout",
     "output_type": "stream",
     "text": [
      "kmeans assembled columns: 'trip_seconds', 'trip_miles', 'fare' columns into a 'kmeans_features' column\n",
      "+------------------+\n",
      "|kmeans_features   |\n",
      "+------------------+\n",
      "|[180.0,0.4,4.5]   |\n",
      "|[240.0,0.7,4.45]  |\n",
      "|[0.0,0.0,42.75]   |\n",
      "|[480.0,1.1,7.0]   |\n",
      "|[480.0,2.71,10.25]|\n",
      "|[60.0,0.2,3.75]   |\n",
      "|[180.0,0.0,5.0]   |\n",
      "|[0.0,0.0,3.25]    |\n",
      "|[480.0,1.3,7.0]   |\n",
      "|[420.0,0.0,7.25]  |\n",
      "|[1380.0,5.1,17.25]|\n",
      "|[420.0,0.0,6.25]  |\n",
      "|[480.0,0.1,9.0]   |\n",
      "|[720.0,0.0,10.75] |\n",
      "|[720.0,2.2,10.0]  |\n",
      "|[300.0,0.8,5.5]   |\n",
      "|[420.0,0.0,6.75]  |\n",
      "|[660.0,4.1,11.85] |\n",
      "|[720.0,2.5,10.25] |\n",
      "|[720.0,0.2,12.25] |\n",
      "+------------------+\n",
      "only showing top 20 rows\n",
      "\n"
     ]
    }
   ],
   "source": [
    "#Perform k-means clustering using features trip_seconds, trip_miles, and fare.\n",
    "\n",
    "# library for K Means clustering\n",
    "from pyspark.ml.clustering import KMeans\n",
    "\n",
    "# evaluate the model indirectly\n",
    "from pyspark.ml.evaluation import ClusteringEvaluator\n",
    "\n",
    "# plot the kmeans\n",
    "import matplotlib.pyplot as plt\n",
    "\n",
    "\n",
    "# create a new vector assembler with the trip_seconds, trip_miles, and fare columns and name a new vector assembler kmeans_assembler\n",
    "\n",
    "kmeans_assembler = VectorAssembler(\n",
    "    inputCols=['trip_seconds', 'trip_miles', 'fare'],\n",
    "    outputCol='kmeans_features')\n",
    "\n",
    "# Note: df_features_clustering3 only has trip_seconds, trip_miles, and fare columns\n",
    "\n",
    "kmeans_assembler_output = kmeans_assembler.transform(df_features_clustering3) # transforming assembler on df_features_clustering3 don't need split\n",
    "\n",
    "kmeans_df = kmeans_assembler_output # assigning kmeans_assembler_output to kmeans_df\n",
    "\n",
    "print(\"kmeans assembled columns: 'trip_seconds', 'trip_miles', 'fare' columns into a 'kmeans_features' column\")\n",
    "\n",
    "kmeans_df.select('kmeans_features').show(truncate=False)"
   ]
  },
  {
   "cell_type": "code",
   "execution_count": null,
   "metadata": {
    "colab": {
     "base_uri": "https://localhost:8080/"
    },
    "id": "hjpoSjMPofII",
    "outputId": "028b3b0e-138e-4fe2-e3a1-ff76d23865f5"
   },
   "outputs": [
    {
     "name": "stdout",
     "output_type": "stream",
     "text": [
      "+------------+----------+-----+------------------+\n",
      "|trip_seconds|trip_miles| fare|   kmeans_features|\n",
      "+------------+----------+-----+------------------+\n",
      "|         180|       0.4|  4.5|   [180.0,0.4,4.5]|\n",
      "|         240|       0.7| 4.45|  [240.0,0.7,4.45]|\n",
      "|           0|       0.0|42.75|   [0.0,0.0,42.75]|\n",
      "|         480|       1.1|  7.0|   [480.0,1.1,7.0]|\n",
      "|         480|      2.71|10.25|[480.0,2.71,10.25]|\n",
      "+------------+----------+-----+------------------+\n",
      "only showing top 5 rows\n",
      "\n"
     ]
    }
   ],
   "source": [
    "kmeans_df.show(5)"
   ]
  },
  {
   "cell_type": "markdown",
   "metadata": {
    "id": "diIhTw6x0d4e"
   },
   "source": [
    "### Finding the optimal number of clusters"
   ]
  },
  {
   "cell_type": "code",
   "execution_count": null,
   "metadata": {
    "id": "ujo93DcUuUo0"
   },
   "outputs": [],
   "source": [
    "#Please recommend the optimal number of clusters and justify your answer.\n",
    "\n",
    "# find the optimal number of clusters\n",
    "\n",
    "Silhvalues = []\n",
    "\n",
    "kmeans_range = range(2, 11)\n",
    "\n",
    "for k in kmeans_range:\n",
    "\n",
    "    kmeans = KMeans(featuresCol=\"kmeans_features\").setK(k).setSeed(1) # specifying that the featrues column is named \"kmeans_features\"\n",
    "\n",
    "    kmeans_model = kmeans.fit(kmeans_df) # use kmeans_df\n",
    "\n",
    "    # Make predictions\n",
    "    kmeans_predictions = kmeans_model.transform(kmeans_df)\n",
    "\n",
    "    # Evaluate clustering by computing Silhouette score (internally evaluate the model)\n",
    "    evaluator = ClusteringEvaluator(featuresCol=\"kmeans_features\") # specifying the feature column is named \"kmeans_features\"\n",
    "\n",
    "    silhouette = evaluator.evaluate(kmeans_predictions)\n",
    "    Silhvalues.append(silhouette)"
   ]
  },
  {
   "cell_type": "code",
   "execution_count": null,
   "metadata": {
    "colab": {
     "base_uri": "https://localhost:8080/",
     "height": 472
    },
    "id": "pi2hx9azub4C",
    "outputId": "568a0da1-48ac-4dd9-9c36-73cb71b18d01"
   },
   "outputs": [
    {
     "data": {
      "image/png": "[encoded data removed]",
      "text/plain": [
       "<Figure size 640x480 with 1 Axes>"
      ]
     },
     "metadata": {},
     "output_type": "display_data"
    }
   ],
   "source": [
    "plt.plot(kmeans_range, Silhvalues, marker='o')\n",
    "plt.title('Finding the Optimal Number of Clusters')\n",
    "plt.xlabel('Number of Clusters (k)')\n",
    "plt.ylabel('Silhvalues')\n",
    "plt.grid()\n",
    "plt.show()\n",
    "# Note: All 20 million records have been used"
   ]
  },
  {
   "cell_type": "markdown",
   "metadata": {
    "id": "vi_AhOA3Alfj"
   },
   "source": [
    "### **Please recommend the optimal number of clusters and justify your answer.**\n",
    "\n",
    "The optimal number of clusters based on the plot is **4**.\n",
    "\n",
    "The plot shows the silhouette values for different cluster numbers. The highest silhouette value is 2 (1.00), but it is NOT the optimal number of clusters because it may oversimplify the data. Then, with the elbow method, the cluster is 5 (about 0.75), but it does not have a good/high silhouette value compared to cluster 4.\n",
    "\n",
    "The optimal number of clusters is 4 (about 0.85) because it has the second-highest silhouette value, well-balanced complexity, and cluster quality. Cluster 4 avoids oversimplification.\n",
    "\n",
    "\n",
    "Note: All 20 million records have been used"
   ]
  },
  {
   "cell_type": "markdown",
   "metadata": {
    "id": "nY-vaPov0VTt"
   },
   "source": [
    "### k-means clustering with the recommended optimal number of clusters\n",
    "The optimal number of clusters is 4."
   ]
  },
  {
   "cell_type": "code",
   "execution_count": null,
   "metadata": {
    "colab": {
     "base_uri": "https://localhost:8080/"
    },
    "id": "4x8MKkGcSnme",
    "outputId": "f3bb8d4c-36dd-482a-86ff-4852e3a7d547"
   },
   "outputs": [
    {
     "name": "stdout",
     "output_type": "stream",
     "text": [
      "+------------------+----------+\n",
      "|   kmeans_features|prediction|\n",
      "+------------------+----------+\n",
      "|   [180.0,0.4,4.5]|         0|\n",
      "|  [240.0,0.7,4.45]|         0|\n",
      "|   [0.0,0.0,42.75]|         0|\n",
      "|   [480.0,1.1,7.0]|         0|\n",
      "|[480.0,2.71,10.25]|         0|\n",
      "+------------------+----------+\n",
      "only showing top 5 rows\n",
      "\n",
      "Optimal Silhouette with Squared Euclidean Distance = 0.8527888818406485\n",
      "\n",
      "Cluster Centers: \n",
      "[456.81963867   1.14222804   8.95469208]\n",
      "[2.74980056e+04 1.05866543e+00 5.03902286e+01]\n",
      "[1716.65513544    1.93833945   24.66164778]\n",
      "[6.58981276e+04 7.37309211e-01 3.06062237e+01]\n"
     ]
    }
   ],
   "source": [
    "opt_k = 4 # the optimal number of clusters (all data used)\n",
    "\n",
    "optimal_kmeans = KMeans(featuresCol=\"kmeans_features\").setK(opt_k).setSeed(1) # specifying that the featrues column is named \"kmeans_features\"\n",
    "\n",
    "\n",
    "optimal_kmeans_model = optimal_kmeans.fit(kmeans_df) # use kmeans_df\n",
    "\n",
    "# Make predictions\n",
    "opt_kmeans_predictions = optimal_kmeans_model.transform(kmeans_df) # use kmeans_df\n",
    "\n",
    "opt_kmeans_predictions.select(\"kmeans_features\", \"prediction\").show(5)\n",
    "\n",
    "\n",
    "# evaluating the optimal model\n",
    "\n",
    "# Evaluate clustering by computing Silhouette score (internally evaluate the model)\n",
    "opt_kmeans_evaluator = ClusteringEvaluator(featuresCol=\"kmeans_features\") # specifying the feature column is named \"kmeans_features\"\n",
    "\n",
    "opt_silhouette = opt_kmeans_evaluator.evaluate(opt_kmeans_predictions)\n",
    "\n",
    "print(\"Optimal Silhouette with Squared Euclidean Distance = \" + str(opt_silhouette))\n",
    "print()\n",
    "\n",
    "#--------------------------------------------------------------------------------------\n",
    "\n",
    "\n",
    "# showing the results of the cluster_centers.\n",
    "cluster_centers = optimal_kmeans_model.clusterCenters()\n",
    "\n",
    "print(\"Cluster Centers: \")\n",
    "for center in cluster_centers:\n",
    "    print(center)"
   ]
  },
  {
   "cell_type": "markdown",
   "metadata": {
    "id": "2o3CIlp2OXO2"
   },
   "source": [
    "### Convert .ipynb to HTML in Google Colab"
   ]
  },
  {
   "cell_type": "code",
   "execution_count": null,
   "metadata": {
    "id": "p_9eOn3mOW7t"
   },
   "outputs": [],
   "source": [
    "%%capture\n",
    "import time\n",
    "time.sleep(10)\n",
    "!jupyter nbconvert --to html /content/drive/MyDrive/DSCI_617_Big_Data_Analytics/Final_Project_DSCI_617_Ryan_Johnson.ipynb"
   ]
  },
  {
   "cell_type": "markdown",
   "metadata": {
    "id": "wiF6BUEuWKue"
   },
   "source": [
    "Please develop your models. You may get help from your classmates. When you debug the models, you may use a smaller dataset, for example, 5,000 rows. After you fix all bugs, then run the whole dataset, for example at 9pm, then you will get some results in the morning,\n",
    "\n",
    "Since it is a very large dataset, it takes about 12 hours on my laptop to run all the models. You need to summarize your model results in a PPT file and present your own research finding on Monday, December 9 or Wednesday, December 11,  2024 in the classroom.\n",
    "\n",
    "You must upload the following three files  into Canvas after your presentation:\n",
    "\n",
    "+ Jupyter Notebook\n",
    "+ HTML file\n",
    "+ PPT File\n",
    "\n",
    "\n",
    "Each student has about 15 minutes."
   ]
  }
 ],
 "metadata": {
  "colab": {
   "provenance": []
  },
  "kernelspec": {
   "display_name": "Python 3 (ipykernel)",
   "language": "python",
   "name": "python3"
  },
  "language_info": {
   "codemirror_mode": {
    "name": "ipython",
    "version": 3
   },
   "file_extension": ".py",
   "mimetype": "text/x-python",
   "name": "python",
   "nbconvert_exporter": "python",
   "pygments_lexer": "ipython3",
   "version": "3.11.7"
  }
 },
 "nbformat": 4,
 "nbformat_minor": 4
}
